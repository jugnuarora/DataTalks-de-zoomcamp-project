{
 "cells": [
  {
   "cell_type": "code",
   "execution_count": null,
   "metadata": {},
   "outputs": [],
   "source": [
    "import sys\n",
    "print(sys.executable)\n",
    "print(sys.path)"
   ]
  },
  {
   "cell_type": "code",
   "execution_count": null,
   "metadata": {},
   "outputs": [],
   "source": [
    "import findspark\n",
    "findspark.init() #This line initializes findspark."
   ]
  },
  {
   "cell_type": "code",
   "execution_count": 2,
   "metadata": {},
   "outputs": [],
   "source": [
    "import os\n",
    "os.environ['SPARK_HOME'] = \"/opt/homebrew/Cellar/apache-spark/3.5.4/libexec\" #Or your spark home.\n",
    "import findspark\n",
    "findspark.init()"
   ]
  },
  {
   "cell_type": "code",
   "execution_count": 3,
   "metadata": {},
   "outputs": [],
   "source": [
    "import pyspark\n",
    "from pyspark.sql import SparkSession\n",
    "from pyspark.conf import SparkConf\n",
    "from pyspark.context import SparkContext\n",
    "from pyspark.sql import functions as F\n",
    "#from pyspark.sql import types as T\n",
    "from pyspark.sql.functions import col\n",
    "from pyspark.sql import types\n",
    "#from deep_translator import GoogleTranslator"
   ]
  },
  {
   "cell_type": "code",
   "execution_count": 4,
   "metadata": {},
   "outputs": [],
   "source": [
    "credentials_location = './gcs.json'\n",
    "\n",
    "conf = SparkConf() \\\n",
    "    .setMaster('local[*]') \\\n",
    "    .setAppName('test') \\\n",
    "    .set(\"spark.jars\", \"./lib/gcs-connector-hadoop3-2.2.5.jar\") \\\n",
    "    .set(\"spark.hadoop.google.cloud.auth.service.account.enable\", \"true\") \\\n",
    "    .set(\"spark.hadoop.google.cloud.auth.service.account.json.keyfile\", credentials_location) \\\n",
    "    .set(\"spark.driver.extraClassPath\", \"./lib/gcs-connector-hadoop3-2.2.5.jar\") \\\n",
    "    .set(\"spark.executor.extraClassPath\", \"./lib/gcs-connector-hadoop3-2.2.5.jar\")"
   ]
  },
  {
   "cell_type": "code",
   "execution_count": 5,
   "metadata": {},
   "outputs": [
    {
     "name": "stderr",
     "output_type": "stream",
     "text": [
      "25/03/20 22:36:04 WARN NativeCodeLoader: Unable to load native-hadoop library for your platform... using builtin-java classes where applicable\n",
      "Setting default log level to \"WARN\".\n",
      "To adjust logging level use sc.setLogLevel(newLevel). For SparkR, use setLogLevel(newLevel).\n"
     ]
    }
   ],
   "source": [
    "sc = SparkContext(conf=conf)\n",
    "\n",
    "hadoop_conf = sc._jsc.hadoopConfiguration()\n",
    "\n",
    "hadoop_conf.set(\"fs.AbstractFileSystem.gs.impl\",  \"com.google.cloud.hadoop.fs.gcs.GoogleHadoopFS\")\n",
    "hadoop_conf.set(\"fs.gs.impl\", \"com.google.cloud.hadoop.fs.gcs.GoogleHadoopFileSystem\")\n",
    "hadoop_conf.set(\"fs.gs.auth.service.account.json.keyfile\", credentials_location)\n",
    "hadoop_conf.set(\"fs.gs.auth.service.account.enable\", \"true\")"
   ]
  },
  {
   "cell_type": "code",
   "execution_count": 52,
   "metadata": {},
   "outputs": [],
   "source": [
    "spark.stop()"
   ]
  },
  {
   "cell_type": "code",
   "execution_count": 6,
   "metadata": {},
   "outputs": [],
   "source": [
    "spark = SparkSession.builder \\\n",
    "    .config(conf=sc.getConf()) \\\n",
    "    .getOrCreate()"
   ]
  },
  {
   "cell_type": "code",
   "execution_count": 7,
   "metadata": {},
   "outputs": [
    {
     "name": "stderr",
     "output_type": "stream",
     "text": [
      "                                                                                \r"
     ]
    }
   ],
   "source": [
    "df_courses = spark.read.option(\"header\", \"true\").parquet('gs://jugnu-france-course-enrollments/courses_enrol_data_2025_03_20/courses_raw_parquet/*.parquet')"
   ]
  },
  {
   "cell_type": "code",
   "execution_count": 8,
   "metadata": {},
   "outputs": [
    {
     "name": "stderr",
     "output_type": "stream",
     "text": [
      "25/03/20 22:36:53 WARN SparkStringUtils: Truncated the string representation of a plan since it was too large. This behavior can be adjusted by setting 'spark.sql.debug.maxToStringFields'.\n",
      "                                                                                \r"
     ]
    },
    {
     "name": "stdout",
     "output_type": "stream",
     "text": [
      "+------------+------------+----------------+--------------------+----------------+---------------+---------+----------------------+-------------------------------+----------------+----------------+----------------+----------------+----------------+--------------------------------+-----------+-----------+-----------+-----------+-----------+--------------------+-------------+-------------+----------+----------+----------+---------------+--------------+--------------------+------------------+--------------------+--------------------+--------------------+----------------------------+---------+-----------------+---------------------+-----------------------+-----------------------+------------------------+-----------------+-----------------+------------------+----------------+-----------+-----------------+-----------------+\n",
      "|date_extract|      nom_of| nom_departement|          nom_region|type_referentiel|code_inventaire|code_rncp|intitule_certification|libelle_niveau_sortie_formation|code_formacode_1|code_formacode_2|code_formacode_3|code_formacode_4|code_formacode_5|libelle_code_formacode_principal|code_rome_1|code_rome_2|code_rome_3|code_rome_4|code_rome_5|       libelle_nsf_1|libelle_nsf_2|libelle_nsf_3|code_nsf_1|code_nsf_2|code_nsf_3|code_certifinfo|         siret|    numero_formation|intitule_formation|        points_forts|  objectif_formation|   contenu_formation|resultats_attendus_formation|nb_action|nb_session_active|nb_session_a_distance|nombre_heures_total_min|nombre_heures_total_max|nombre_heures_total_mean|frais_ttc_tot_min|frais_ttc_tot_max|frais_ttc_tot_mean|code_departement|code_region|nbaction_nbheures|coderegion_export|\n",
      "+------------+------------+----------------+--------------------+----------------+---------------+---------+----------------------+-------------------------------+----------------+----------------+----------------+----------------+----------------+--------------------------------+-----------+-----------+-----------+-----------+-----------+--------------------+-------------+-------------+----------+----------+----------+---------------+--------------+--------------------+------------------+--------------------+--------------------+--------------------+----------------------------+---------+-----------------+---------------------+-----------------------+-----------------------+------------------------+-----------------+-----------------+------------------+----------------+-----------+-----------------+-----------------+\n",
      "|  2025-03-20|BT FORMATION|   Côtes-d'Armor|            Bretagne|              RS|           6965|       -1|  Créer et gérer de...|                           NULL|            NULL|            NULL|            NULL|            NULL|            NULL|                            NULL|       NULL|       NULL|       NULL|       NULL|       NULL|Informatique, tra...|         NULL|         NULL|     326.0|      NULL|      NULL|             -1|48121600000044|48121600000044_11...|LOGICIEL WORDPRESS|<p>24 ans d'expér...|<ul><li>Maitriser...|<p>WordPress est ...|        <p>La certificati...|        1|                1|                    0|                     30|                     30|                      30|           1490.0|           1490.0|            1490.0|              22|         53|               30|               53|\n",
      "|  2025-03-20|BT FORMATION|Bouches-du-Rhône|Provence-Alpes-Cô...|              RS|           6965|       -1|  Créer et gérer de...|                           NULL|            NULL|            NULL|            NULL|            NULL|            NULL|                            NULL|       NULL|       NULL|       NULL|       NULL|       NULL|Informatique, tra...|         NULL|         NULL|     326.0|      NULL|      NULL|             -1|48121600000044|48121600000044_11...|LOGICIEL WORDPRESS|<p>24 ans d'expér...|<ul><li>Maitriser...|<p>WordPress est ...|        <p>La certificati...|        1|                1|                    0|                     30|                     30|                      30|           1490.0|           1490.0|            1490.0|              13|         93|               30|               93|\n",
      "|  2025-03-20|BT FORMATION|      Val-d'Oise|       Île-de-France|              RS|           6965|       -1|  Créer et gérer de...|                           NULL|            NULL|            NULL|            NULL|            NULL|            NULL|                            NULL|       NULL|       NULL|       NULL|       NULL|       NULL|Informatique, tra...|         NULL|         NULL|     326.0|      NULL|      NULL|             -1|48121600000044|48121600000044_11...|LOGICIEL WORDPRESS|<p>24 ans d'expér...|<ul><li>Maitriser...|<p>WordPress est ...|        <p>La certificati...|        1|                1|                    0|                     20|                     20|                      20|            890.0|            890.0|             890.0|              95|         11|               20|               11|\n",
      "|  2025-03-20|BT FORMATION|    Val-de-Marne|       Île-de-France|              RS|           6965|       -1|  Créer et gérer de...|                           NULL|            NULL|            NULL|            NULL|            NULL|            NULL|                            NULL|       NULL|       NULL|       NULL|       NULL|       NULL|Informatique, tra...|         NULL|         NULL|     326.0|      NULL|      NULL|             -1|48121600000044|48121600000044_11...|LOGICIEL WORDPRESS|<p>24 ans d'expér...|<ul><li>Maitriser...|<p>WordPress est ...|        <p>La certificati...|        1|                1|                    0|                     20|                     20|                      20|            890.0|            890.0|             890.0|              94|         11|               20|               11|\n",
      "|  2025-03-20|BT FORMATION|  Seine-et-Marne|       Île-de-France|              RS|           6965|       -1|  Créer et gérer de...|                           NULL|            NULL|            NULL|            NULL|            NULL|            NULL|                            NULL|       NULL|       NULL|       NULL|       NULL|       NULL|Informatique, tra...|         NULL|         NULL|     326.0|      NULL|      NULL|             -1|48121600000044|48121600000044_11...|LOGICIEL WORDPRESS|<p>24 ans d'expér...|<ul><li>Maitriser...|<p>WordPress est ...|        <p>La certificati...|        1|                1|                    0|                     20|                     20|                      20|            890.0|            890.0|             890.0|              77|         11|               20|               11|\n",
      "+------------+------------+----------------+--------------------+----------------+---------------+---------+----------------------+-------------------------------+----------------+----------------+----------------+----------------+----------------+--------------------------------+-----------+-----------+-----------+-----------+-----------+--------------------+-------------+-------------+----------+----------+----------+---------------+--------------+--------------------+------------------+--------------------+--------------------+--------------------+----------------------------+---------+-----------------+---------------------+-----------------------+-----------------------+------------------------+-----------------+-----------------+------------------+----------------+-----------+-----------------+-----------------+\n",
      "only showing top 5 rows\n",
      "\n"
     ]
    }
   ],
   "source": [
    "df_courses.show(5)"
   ]
  },
  {
   "cell_type": "code",
   "execution_count": 37,
   "metadata": {},
   "outputs": [
    {
     "data": {
      "text/plain": [
       "StructType([StructField('date_extract', StringType(), True), StructField('provider', StringType(), True), StructField('department', StringType(), True), StructField('region', StringType(), True), StructField('type_referentiel', StringType(), True), StructField('code_inventaire', LongType(), True), StructField('code_rncp', LongType(), True), StructField('certification_title', StringType(), True), StructField('training_exit_level', StringType(), True), StructField('code_formacode_1', DoubleType(), True), StructField('code_formacode_2', DoubleType(), True), StructField('code_formacode_3', DoubleType(), True), StructField('code_formacode_4', DoubleType(), True), StructField('code_formacode_5', DoubleType(), True), StructField('main_formacode_desc', StringType(), True), StructField('code_rome_1', StringType(), True), StructField('code_rome_2', StringType(), True), StructField('code_rome_3', StringType(), True), StructField('code_rome_4', StringType(), True), StructField('code_rome_5', StringType(), True), StructField('nsf_code_1_desc', StringType(), True), StructField('nsf_code_2_desc', StringType(), True), StructField('nsf_code_3_desc', StringType(), True), StructField('code_nsf_1', DoubleType(), True), StructField('code_nsf_2', DoubleType(), True), StructField('code_nsf_3', DoubleType(), True), StructField('code_certifinfo', LongType(), True), StructField('provider_ID', LongType(), True), StructField('training_ID', StringType(), True), StructField('title', StringType(), True), StructField('strengths', StringType(), True), StructField('objectif_formation', StringType(), True), StructField('contenu_formation', StringType(), True), StructField('resultats_attendus_formation', StringType(), True), StructField('nb_action', LongType(), True), StructField('nb_active_session', LongType(), True), StructField('nb_distant_session', LongType(), True), StructField('duration_min', LongType(), True), StructField('duration_max', LongType(), True), StructField('duration_mean', LongType(), True), StructField('cost_min', DoubleType(), True), StructField('cost_max', DoubleType(), True), StructField('cost_mean', DoubleType(), True), StructField('code_departement', StringType(), True), StructField('code_region', StringType(), True), StructField('nbaction_nbheures', LongType(), True), StructField('coderegion_export', StringType(), True)])"
      ]
     },
     "execution_count": 37,
     "metadata": {},
     "output_type": "execute_result"
    }
   ],
   "source": [
    "df_courses.schema"
   ]
  },
  {
   "cell_type": "code",
   "execution_count": null,
   "metadata": {},
   "outputs": [],
   "source": [
    "schema = types.StructType([\n",
    "    types.StructField('date_extract', types.StringType(), True), \n",
    "    types.StructField('nom_of', types.StringType(), True), \n",
    "    types.StructField('nom_departement', types.StringType(), True), \n",
    "    types.StructField('nom_region', types.StringType(), True), \n",
    "    types.StructField('type_referentiel', types.StringType(), True), \n",
    "    types.StructField('code_inventaire', types.LongType(), True), \n",
    "    types.StructField('code_rncp', types.LongType(), True), \n",
    "    types.StructField('intitule_certification', types.StringType(), True), \n",
    "    types.StructField('libelle_niveau_sortie_formation', types.StringType(), True), \n",
    "    types.StructField('code_formacode_1', types.DoubleType(), True), \n",
    "    types.StructField('code_formacode_2', types.DoubleType(), True), \n",
    "    types.StructField('code_formacode_3', types.DoubleType(), True), \n",
    "    types.StructField('code_formacode_4', types.DoubleType(), True), \n",
    "    types.StructField('code_formacode_5', types.DoubleType(), True), \n",
    "    types.StructField('libelle_code_formacode_principal', types.StringType(), True), \n",
    "    types.StructField('code_rome_1', types.StringType(), True), \n",
    "    types.StructField('code_rome_2', types.StringType(), True), \n",
    "    types.StructField('code_rome_3', types.StringType(), True), \n",
    "    types.StructField('code_rome_4', types.StringType(), True), \n",
    "    types.StructField('code_rome_5', types.StringType(), True), \n",
    "    types.StructField('libelle_nsf_1', types.StringType(), True), \n",
    "    types.StructField('libelle_nsf_2', types.StringType(), True), \n",
    "    types.StructField('libelle_nsf_3', types.StringType(), True), \n",
    "    types.StructField('code_nsf_1', types.StringType(), True), \n",
    "    types.StructField('code_nsf_2', types.StringType(), True), \n",
    "    types.StructField('code_nsf_3', types.StringType(), True), \n",
    "    types.StructField('code_certifinfo', types.StringType(), True), \n",
    "    types.StructField('siret', types.StringType(), True), \n",
    "    types.StructField('numero_formation', types.StringType(), True), \n",
    "    types.StructField('intitule_formation', types.StringType(), True), \n",
    "    types.StructField('points_forts', types.StringType(), True), \n",
    "    types.StructField('objectif_formation', types.StringType(), True), \n",
    "    types.StructField('contenu_formation', types.StringType(), True), \n",
    "    types.StructField('resultats_attendus_formation', types.StringType(), True), \n",
    "    types.StructField('nb_action', types.IntegerType(), True), \n",
    "    types.StructField('nb_session_active', types.IntegerType(), True), \n",
    "    types.StructField('nb_session_a_distance', types.IntegerType(), True), \n",
    "    types.StructField('nombre_heures_total_min', types.IntegerType(), True), \n",
    "    types.StructField('nombre_heures_total_max', types.IntegerType(), True), \n",
    "    types.StructField('nombre_heures_total_mean', types.IntegerType(), True), \n",
    "    types.StructField('frais_ttc_tot_min', types.FloatType(), True), \n",
    "    types.StructField('frais_ttc_tot_max', types.FloatType(), True), \n",
    "    types.StructField('frais_ttc_tot_mean', types.FloatType(), True), \n",
    "    types.StructField('code_departement', types.StringType(), True), \n",
    "    types.StructField('code_region', types.StringType(), True), \n",
    "    types.StructField('nbaction_nbheures', types.IntegerType(), True), \n",
    "    types.StructField('coderegion_export', types.StringType(), True)\n",
    "    ])"
   ]
  },
  {
   "cell_type": "code",
   "execution_count": 32,
   "metadata": {},
   "outputs": [],
   "source": [
    "df_courses_s = spark.read.option(\"header\", \"true\").schema(schema).parquet('gs://jugnu-france-course-enrollments/courses_data/courses_raw_parquet/*.parquet')"
   ]
  },
  {
   "cell_type": "code",
   "execution_count": 40,
   "metadata": {},
   "outputs": [],
   "source": [
    "# Cast the 'code_inventaire' column to a string\n",
    "df_courses = df_courses.withColumn(\"code_inventaire\", df_courses[\"code_inventaire\"].cast(types.StringType()))\\\n",
    "    .withColumn(\"code_rncp\", df_courses[\"code_rncp\"].cast(types.StringType()))\\\n",
    "    .withColumn(\"code_formacode_1\", df_courses[\"code_formacode_1\"].cast(types.StringType()))\\\n",
    "    .withColumn(\"code_formacode_2\", df_courses[\"code_formacode_2\"].cast(types.StringType()))\\\n",
    "    .withColumn(\"code_formacode_3\", df_courses[\"code_formacode_3\"].cast(types.StringType()))\\\n",
    "    .withColumn(\"code_formacode_4\", df_courses[\"code_formacode_4\"].cast(types.StringType()))\\\n",
    "    .withColumn(\"code_formacode_5\", df_courses[\"code_formacode_5\"].cast(types.StringType()))\\\n",
    "    .withColumn(\"code_nsf_1\", df_courses[\"code_nsf_1\"].cast(types.StringType()))\\\n",
    "    .withColumn(\"code_nsf_2\", df_courses[\"code_nsf_2\"].cast(types.StringType()))\\\n",
    "    .withColumn(\"code_nsf_3\", df_courses[\"code_nsf_3\"].cast(types.StringType()))\\\n",
    "    .withColumn(\"code_certifinfo\", df_courses[\"code_certifinfo\"].cast(types.StringType()))\\\n",
    "    .withColumn(\"provider_ID\", df_courses[\"provider_ID\"].cast(types.StringType()))"
   ]
  },
  {
   "cell_type": "code",
   "execution_count": null,
   "metadata": {},
   "outputs": [],
   "source": []
  },
  {
   "cell_type": "code",
   "execution_count": 41,
   "metadata": {},
   "outputs": [
    {
     "name": "stderr",
     "output_type": "stream",
     "text": [
      "                                                                                \r"
     ]
    },
    {
     "data": {
      "text/plain": [
       "[Row(date_extract='2025-03-20', provider='BT FORMATION', department=\"Côtes-d'Armor\", region='Bretagne', type_referentiel='RS', code_inventaire='6965', code_rncp='-1', certification_title='Créer et gérer des sites web avec WordPress (Tosa)', training_exit_level=None, code_formacode_1=None, code_formacode_2=None, code_formacode_3=None, code_formacode_4=None, code_formacode_5=None, main_formacode_desc=None, code_rome_1=None, code_rome_2=None, code_rome_3=None, code_rome_4=None, code_rome_5=None, nsf_code_1_desc=\"Informatique, traitement de l'information, réseaux de transmission\", nsf_code_2_desc=None, nsf_code_3_desc=None, code_nsf_1='326.0', code_nsf_2=None, code_nsf_3=None, code_certifinfo='-1', provider_ID='48121600000044', training_ID='48121600000044_11172-60', title='LOGICIEL WORDPRESS', strengths='<p>24 ans d\\'expérience à votre service.</p><p>- Durée, rythme selon vos disponibilités.</p><p>- Préparation et passage à la certification inclus.</p><h4>Intéressé(e) ? \"Demander un devis\"</h4>', objectif_formation=\"<ul><li>Maitriser l'interface</li><li>Utiliser les fonctionnalités basiques du logiciel.</li><li>Utiliser les fonctionnalités avancées du logiciel.</li><li><br /><h2>Atteindre le niveau le plus élevé possible en personnalisant les objectifs en fonction de votre projet et de votre niveau initial.</h2><p></p><ul><li>- Formation avec un <b>formateur expert dédié</b> selon vos disponibilités.</li><li>- Accès à notre plate-forme e-learning en illimité.</li><li>- Suivi pédagogique pendant 6 mois.</li></ul><h4>Besoin de conseils ?</h4><ul><li> - Contactez-nous au <b>0806 706 666</b> (appel gratuit non surtaxé)</li><li> - Réservez un entretien personnalisé de 15 min en copiant/collant le lien suivant dans votre navigateur : <b>cpf.bt-formation.fr</b></li><li> - Envoyez-nous un mail à <b>info@bt-formation.fr</b></li></ul></li><li>MAJ:03/03/25 08:42</li></ul>\", contenu_formation=\"<p>WordPress est un logiciel de gestion de contenu (CMS) permettant de créer rapidement et simplement des sites Web et de gérer leur contenu à partir d'une interface d'administration.</p><h2>Introduction à WordPress</h2><ul><li>Notions sur les CMS</li><li>Eléments nécessaires à la mise en place d'un site WordPress</li><li>Les possibilités de WordPress</li><li>Différences entre un blog et un site</li><li><h2>Installation de WordPress</h2></li><li>Téléchargement des fichiers</li><li>Notions d'hébergement (location serveur, mutualisé ou non)</li><li>Gestion du serveur d'hébergement en local</li><li>Préparation de la Base de Données MySQL</li><li>Envoi des fichiers sur le serveur local</li><li>Installation du CMS</li><li><h2>Le contenu d'un site WordPress</h2></li><li>Les articles</li><li>Les pages</li><li>Gestion du contenu multimédia (textes, photos, vidéos)</li><li>Les commentaires</li><li><h2>Les visuels de WordPress</h2></li><li>Choix d'un thème</li><li>Personnalisation d'un thème</li><li>Les menus</li><li>Les widgets</li><li><h2>Les extensions (plugins)</h2></li><li>Qu'est-ce qu'une extension ?</li><li>Les plugins utiles (sécurité, contact, référencement, mise en cache)</li><li><h2>Utilisateurs</h2></li><li>Gestion des inscriptions à son site WordPress</li><li>Gestion des droits des utilisateurs</li><li>Création d'utilisateurs</li><li><h2>Réglages</h2></li><li>Les réglages de base</li><li>Configuration des articles</li><li>Configuration des commentaires</li><li>Configuration des dimensions d'images</li></ul>\", resultats_attendus_formation=\"<p>La certification TOSA Wordpress repose sur un test en ligne qui permet l'évaluation complète des compétences des candidats dans l'utilisation du logiciel. La certification se passe en conditions d'examen dans un centre agréé ou à distance, via une solution intégrée d'e-surveillance. À l'issue du test, le candidat se voit attribuer un score (0 à 1000).</p><p>Score sur une échelle de 1 à 1000.</p><ul><li></li><li>Durée : 1 H</li><li>Délivrance de la certification si le score est supérieur à 551</li><li>Certification incluse dans le prix de la formation</li></ul>\", nb_action=1, nb_active_session=1, nb_distant_session=0, duration_min=30, duration_max=30, duration_mean=30, cost_min=1490.0, cost_max=1490.0, cost_mean=1490.0, code_departement='22', code_region='53', nbaction_nbheures=30, coderegion_export='53'),\n",
       " Row(date_extract='2025-03-20', provider='BT FORMATION', department='Bouches-du-Rhône', region=\"Provence-Alpes-Côte d'Azur\", type_referentiel='RS', code_inventaire='6965', code_rncp='-1', certification_title='Créer et gérer des sites web avec WordPress (Tosa)', training_exit_level=None, code_formacode_1=None, code_formacode_2=None, code_formacode_3=None, code_formacode_4=None, code_formacode_5=None, main_formacode_desc=None, code_rome_1=None, code_rome_2=None, code_rome_3=None, code_rome_4=None, code_rome_5=None, nsf_code_1_desc=\"Informatique, traitement de l'information, réseaux de transmission\", nsf_code_2_desc=None, nsf_code_3_desc=None, code_nsf_1='326.0', code_nsf_2=None, code_nsf_3=None, code_certifinfo='-1', provider_ID='48121600000044', training_ID='48121600000044_11172-60', title='LOGICIEL WORDPRESS', strengths='<p>24 ans d\\'expérience à votre service.</p><p>- Durée, rythme selon vos disponibilités.</p><p>- Préparation et passage à la certification inclus.</p><h4>Intéressé(e) ? \"Demander un devis\"</h4>', objectif_formation=\"<ul><li>Maitriser l'interface</li><li>Utiliser les fonctionnalités basiques du logiciel.</li><li>Utiliser les fonctionnalités avancées du logiciel.</li><li><br /><h2>Atteindre le niveau le plus élevé possible en personnalisant les objectifs en fonction de votre projet et de votre niveau initial.</h2><p></p><ul><li>- Formation avec un <b>formateur expert dédié</b> selon vos disponibilités.</li><li>- Accès à notre plate-forme e-learning en illimité.</li><li>- Suivi pédagogique pendant 6 mois.</li></ul><h4>Besoin de conseils ?</h4><ul><li> - Contactez-nous au <b>0806 706 666</b> (appel gratuit non surtaxé)</li><li> - Réservez un entretien personnalisé de 15 min en copiant/collant le lien suivant dans votre navigateur : <b>cpf.bt-formation.fr</b></li><li> - Envoyez-nous un mail à <b>info@bt-formation.fr</b></li></ul></li><li>MAJ:03/03/25 08:42</li></ul>\", contenu_formation=\"<p>WordPress est un logiciel de gestion de contenu (CMS) permettant de créer rapidement et simplement des sites Web et de gérer leur contenu à partir d'une interface d'administration.</p><h2>Introduction à WordPress</h2><ul><li>Notions sur les CMS</li><li>Eléments nécessaires à la mise en place d'un site WordPress</li><li>Les possibilités de WordPress</li><li>Différences entre un blog et un site</li><li><h2>Installation de WordPress</h2></li><li>Téléchargement des fichiers</li><li>Notions d'hébergement (location serveur, mutualisé ou non)</li><li>Gestion du serveur d'hébergement en local</li><li>Préparation de la Base de Données MySQL</li><li>Envoi des fichiers sur le serveur local</li><li>Installation du CMS</li><li><h2>Le contenu d'un site WordPress</h2></li><li>Les articles</li><li>Les pages</li><li>Gestion du contenu multimédia (textes, photos, vidéos)</li><li>Les commentaires</li><li><h2>Les visuels de WordPress</h2></li><li>Choix d'un thème</li><li>Personnalisation d'un thème</li><li>Les menus</li><li>Les widgets</li><li><h2>Les extensions (plugins)</h2></li><li>Qu'est-ce qu'une extension ?</li><li>Les plugins utiles (sécurité, contact, référencement, mise en cache)</li><li><h2>Utilisateurs</h2></li><li>Gestion des inscriptions à son site WordPress</li><li>Gestion des droits des utilisateurs</li><li>Création d'utilisateurs</li><li><h2>Réglages</h2></li><li>Les réglages de base</li><li>Configuration des articles</li><li>Configuration des commentaires</li><li>Configuration des dimensions d'images</li></ul>\", resultats_attendus_formation=\"<p>La certification TOSA Wordpress repose sur un test en ligne qui permet l'évaluation complète des compétences des candidats dans l'utilisation du logiciel. La certification se passe en conditions d'examen dans un centre agréé ou à distance, via une solution intégrée d'e-surveillance. À l'issue du test, le candidat se voit attribuer un score (0 à 1000).</p><p>Score sur une échelle de 1 à 1000.</p><ul><li></li><li>Durée : 1 H</li><li>Délivrance de la certification si le score est supérieur à 551</li><li>Certification incluse dans le prix de la formation</li></ul>\", nb_action=1, nb_active_session=1, nb_distant_session=0, duration_min=30, duration_max=30, duration_mean=30, cost_min=1490.0, cost_max=1490.0, cost_mean=1490.0, code_departement='13', code_region='93', nbaction_nbheures=30, coderegion_export='93')]"
      ]
     },
     "execution_count": 41,
     "metadata": {},
     "output_type": "execute_result"
    }
   ],
   "source": [
    "df_courses.head(2)"
   ]
  },
  {
   "cell_type": "code",
   "execution_count": 42,
   "metadata": {},
   "outputs": [],
   "source": [
    "# Convert the string to a timestamp with the correct format\n",
    "df_courses_data = df_courses.withColumn('date_extract', F.to_date(F.col('date_extract'), 'yyyy-MM-dd'))\n"
   ]
  },
  {
   "cell_type": "code",
   "execution_count": 43,
   "metadata": {},
   "outputs": [
    {
     "name": "stderr",
     "output_type": "stream",
     "text": [
      "                                                                                \r"
     ]
    },
    {
     "data": {
      "text/plain": [
       "[Row(date_extract=datetime.date(2025, 3, 20), provider='BT FORMATION', department=\"Côtes-d'Armor\", region='Bretagne', type_referentiel='RS', code_inventaire='6965', code_rncp='-1', certification_title='Créer et gérer des sites web avec WordPress (Tosa)', training_exit_level=None, code_formacode_1=None, code_formacode_2=None, code_formacode_3=None, code_formacode_4=None, code_formacode_5=None, main_formacode_desc=None, code_rome_1=None, code_rome_2=None, code_rome_3=None, code_rome_4=None, code_rome_5=None, nsf_code_1_desc=\"Informatique, traitement de l'information, réseaux de transmission\", nsf_code_2_desc=None, nsf_code_3_desc=None, code_nsf_1='326.0', code_nsf_2=None, code_nsf_3=None, code_certifinfo='-1', provider_ID='48121600000044', training_ID='48121600000044_11172-60', title='LOGICIEL WORDPRESS', strengths='<p>24 ans d\\'expérience à votre service.</p><p>- Durée, rythme selon vos disponibilités.</p><p>- Préparation et passage à la certification inclus.</p><h4>Intéressé(e) ? \"Demander un devis\"</h4>', objectif_formation=\"<ul><li>Maitriser l'interface</li><li>Utiliser les fonctionnalités basiques du logiciel.</li><li>Utiliser les fonctionnalités avancées du logiciel.</li><li><br /><h2>Atteindre le niveau le plus élevé possible en personnalisant les objectifs en fonction de votre projet et de votre niveau initial.</h2><p></p><ul><li>- Formation avec un <b>formateur expert dédié</b> selon vos disponibilités.</li><li>- Accès à notre plate-forme e-learning en illimité.</li><li>- Suivi pédagogique pendant 6 mois.</li></ul><h4>Besoin de conseils ?</h4><ul><li> - Contactez-nous au <b>0806 706 666</b> (appel gratuit non surtaxé)</li><li> - Réservez un entretien personnalisé de 15 min en copiant/collant le lien suivant dans votre navigateur : <b>cpf.bt-formation.fr</b></li><li> - Envoyez-nous un mail à <b>info@bt-formation.fr</b></li></ul></li><li>MAJ:03/03/25 08:42</li></ul>\", contenu_formation=\"<p>WordPress est un logiciel de gestion de contenu (CMS) permettant de créer rapidement et simplement des sites Web et de gérer leur contenu à partir d'une interface d'administration.</p><h2>Introduction à WordPress</h2><ul><li>Notions sur les CMS</li><li>Eléments nécessaires à la mise en place d'un site WordPress</li><li>Les possibilités de WordPress</li><li>Différences entre un blog et un site</li><li><h2>Installation de WordPress</h2></li><li>Téléchargement des fichiers</li><li>Notions d'hébergement (location serveur, mutualisé ou non)</li><li>Gestion du serveur d'hébergement en local</li><li>Préparation de la Base de Données MySQL</li><li>Envoi des fichiers sur le serveur local</li><li>Installation du CMS</li><li><h2>Le contenu d'un site WordPress</h2></li><li>Les articles</li><li>Les pages</li><li>Gestion du contenu multimédia (textes, photos, vidéos)</li><li>Les commentaires</li><li><h2>Les visuels de WordPress</h2></li><li>Choix d'un thème</li><li>Personnalisation d'un thème</li><li>Les menus</li><li>Les widgets</li><li><h2>Les extensions (plugins)</h2></li><li>Qu'est-ce qu'une extension ?</li><li>Les plugins utiles (sécurité, contact, référencement, mise en cache)</li><li><h2>Utilisateurs</h2></li><li>Gestion des inscriptions à son site WordPress</li><li>Gestion des droits des utilisateurs</li><li>Création d'utilisateurs</li><li><h2>Réglages</h2></li><li>Les réglages de base</li><li>Configuration des articles</li><li>Configuration des commentaires</li><li>Configuration des dimensions d'images</li></ul>\", resultats_attendus_formation=\"<p>La certification TOSA Wordpress repose sur un test en ligne qui permet l'évaluation complète des compétences des candidats dans l'utilisation du logiciel. La certification se passe en conditions d'examen dans un centre agréé ou à distance, via une solution intégrée d'e-surveillance. À l'issue du test, le candidat se voit attribuer un score (0 à 1000).</p><p>Score sur une échelle de 1 à 1000.</p><ul><li></li><li>Durée : 1 H</li><li>Délivrance de la certification si le score est supérieur à 551</li><li>Certification incluse dans le prix de la formation</li></ul>\", nb_action=1, nb_active_session=1, nb_distant_session=0, duration_min=30, duration_max=30, duration_mean=30, cost_min=1490.0, cost_max=1490.0, cost_mean=1490.0, code_departement='22', code_region='53', nbaction_nbheures=30, coderegion_export='53'),\n",
       " Row(date_extract=datetime.date(2025, 3, 20), provider='BT FORMATION', department='Bouches-du-Rhône', region=\"Provence-Alpes-Côte d'Azur\", type_referentiel='RS', code_inventaire='6965', code_rncp='-1', certification_title='Créer et gérer des sites web avec WordPress (Tosa)', training_exit_level=None, code_formacode_1=None, code_formacode_2=None, code_formacode_3=None, code_formacode_4=None, code_formacode_5=None, main_formacode_desc=None, code_rome_1=None, code_rome_2=None, code_rome_3=None, code_rome_4=None, code_rome_5=None, nsf_code_1_desc=\"Informatique, traitement de l'information, réseaux de transmission\", nsf_code_2_desc=None, nsf_code_3_desc=None, code_nsf_1='326.0', code_nsf_2=None, code_nsf_3=None, code_certifinfo='-1', provider_ID='48121600000044', training_ID='48121600000044_11172-60', title='LOGICIEL WORDPRESS', strengths='<p>24 ans d\\'expérience à votre service.</p><p>- Durée, rythme selon vos disponibilités.</p><p>- Préparation et passage à la certification inclus.</p><h4>Intéressé(e) ? \"Demander un devis\"</h4>', objectif_formation=\"<ul><li>Maitriser l'interface</li><li>Utiliser les fonctionnalités basiques du logiciel.</li><li>Utiliser les fonctionnalités avancées du logiciel.</li><li><br /><h2>Atteindre le niveau le plus élevé possible en personnalisant les objectifs en fonction de votre projet et de votre niveau initial.</h2><p></p><ul><li>- Formation avec un <b>formateur expert dédié</b> selon vos disponibilités.</li><li>- Accès à notre plate-forme e-learning en illimité.</li><li>- Suivi pédagogique pendant 6 mois.</li></ul><h4>Besoin de conseils ?</h4><ul><li> - Contactez-nous au <b>0806 706 666</b> (appel gratuit non surtaxé)</li><li> - Réservez un entretien personnalisé de 15 min en copiant/collant le lien suivant dans votre navigateur : <b>cpf.bt-formation.fr</b></li><li> - Envoyez-nous un mail à <b>info@bt-formation.fr</b></li></ul></li><li>MAJ:03/03/25 08:42</li></ul>\", contenu_formation=\"<p>WordPress est un logiciel de gestion de contenu (CMS) permettant de créer rapidement et simplement des sites Web et de gérer leur contenu à partir d'une interface d'administration.</p><h2>Introduction à WordPress</h2><ul><li>Notions sur les CMS</li><li>Eléments nécessaires à la mise en place d'un site WordPress</li><li>Les possibilités de WordPress</li><li>Différences entre un blog et un site</li><li><h2>Installation de WordPress</h2></li><li>Téléchargement des fichiers</li><li>Notions d'hébergement (location serveur, mutualisé ou non)</li><li>Gestion du serveur d'hébergement en local</li><li>Préparation de la Base de Données MySQL</li><li>Envoi des fichiers sur le serveur local</li><li>Installation du CMS</li><li><h2>Le contenu d'un site WordPress</h2></li><li>Les articles</li><li>Les pages</li><li>Gestion du contenu multimédia (textes, photos, vidéos)</li><li>Les commentaires</li><li><h2>Les visuels de WordPress</h2></li><li>Choix d'un thème</li><li>Personnalisation d'un thème</li><li>Les menus</li><li>Les widgets</li><li><h2>Les extensions (plugins)</h2></li><li>Qu'est-ce qu'une extension ?</li><li>Les plugins utiles (sécurité, contact, référencement, mise en cache)</li><li><h2>Utilisateurs</h2></li><li>Gestion des inscriptions à son site WordPress</li><li>Gestion des droits des utilisateurs</li><li>Création d'utilisateurs</li><li><h2>Réglages</h2></li><li>Les réglages de base</li><li>Configuration des articles</li><li>Configuration des commentaires</li><li>Configuration des dimensions d'images</li></ul>\", resultats_attendus_formation=\"<p>La certification TOSA Wordpress repose sur un test en ligne qui permet l'évaluation complète des compétences des candidats dans l'utilisation du logiciel. La certification se passe en conditions d'examen dans un centre agréé ou à distance, via une solution intégrée d'e-surveillance. À l'issue du test, le candidat se voit attribuer un score (0 à 1000).</p><p>Score sur une échelle de 1 à 1000.</p><ul><li></li><li>Durée : 1 H</li><li>Délivrance de la certification si le score est supérieur à 551</li><li>Certification incluse dans le prix de la formation</li></ul>\", nb_action=1, nb_active_session=1, nb_distant_session=0, duration_min=30, duration_max=30, duration_mean=30, cost_min=1490.0, cost_max=1490.0, cost_mean=1490.0, code_departement='13', code_region='93', nbaction_nbheures=30, coderegion_export='93')]"
      ]
     },
     "execution_count": 43,
     "metadata": {},
     "output_type": "execute_result"
    }
   ],
   "source": [
    "df_courses_data.head(2)"
   ]
  },
  {
   "cell_type": "code",
   "execution_count": 44,
   "metadata": {},
   "outputs": [],
   "source": [
    "# Assuming your DataFrame is named df\n",
    "\n",
    "filter_values = [\n",
    "    \"Informatique, traitement de l'information, réseaux de transmission\",\n",
    "    \"Enseignement, formation\",\n",
    "    \"Commerce, vente\",\n",
    "    \"Comptabilite, gestion\",\n",
    "    \"Spécialités pluri-scientifiques\",\n",
    "    \"Spécialites plurivalentes de la communication et de l'information\"\n",
    "]"
   ]
  },
  {
   "cell_type": "code",
   "execution_count": 45,
   "metadata": {},
   "outputs": [],
   "source": [
    "df_courses_data = df_courses_data.filter(col(\"libelle_nsf_1\").isin(filter_values))"
   ]
  },
  {
   "cell_type": "code",
   "execution_count": 46,
   "metadata": {},
   "outputs": [
    {
     "name": "stderr",
     "output_type": "stream",
     "text": [
      "                                                                                \r"
     ]
    },
    {
     "data": {
      "text/plain": [
       "68114"
      ]
     },
     "execution_count": 46,
     "metadata": {},
     "output_type": "execute_result"
    }
   ],
   "source": [
    "df_courses.count()"
   ]
  },
  {
   "cell_type": "code",
   "execution_count": 47,
   "metadata": {},
   "outputs": [],
   "source": [
    "# Define the columns to rename and their new names\n",
    "columns_to_rename = {\n",
    "    'nom_of': 'provider',\n",
    "    'siret': 'provider_ID',\n",
    "    'nom_region': 'region',\n",
    "    'nom_departement': 'department',\n",
    "    'intitule_certification': 'certification_title',\n",
    "    'libelle_niveau_sortie_formation': 'training_exit_level',\n",
    "    'libelle_code_formacode_principal': 'main_formacode_desc',\n",
    "    'libelle_nsf_1': 'nsf_code_1_desc',\n",
    "    'libelle_nsf_2': 'nsf_code_2_desc',\n",
    "    'libelle_nsf_3': 'nsf_code_3_desc',\n",
    "    'numero_formation': 'training_ID',\n",
    "    'intitule_formation': 'title',\n",
    "    'points_forts': 'strengths',\n",
    "    'nb_session_active': 'nb_active_session',\n",
    "    'nb_session_a_distance': 'nb_distant_session',\n",
    "    'nombre_heures_total_min': 'duration_min',\n",
    "    'nombre_heures_total_max': 'duration_max',\n",
    "    'nombre_heures_total_mean': 'duration_mean',\n",
    "    'frais_ttc_tot_min': 'cost_min',\n",
    "    'frais_ttc_tot_max': 'cost_max',\n",
    "    'frais_ttc_tot_mean': 'cost_mean'\n",
    "}"
   ]
  },
  {
   "cell_type": "code",
   "execution_count": 49,
   "metadata": {},
   "outputs": [
    {
     "name": "stdout",
     "output_type": "stream",
     "text": [
      "Column 'nom_of' not found, skipping rename.\n",
      "Column 'siret' not found, skipping rename.\n",
      "Column 'nom_region' not found, skipping rename.\n",
      "Column 'nom_departement' not found, skipping rename.\n",
      "Column 'intitule_certification' not found, skipping rename.\n",
      "Column 'libelle_niveau_sortie_formation' not found, skipping rename.\n",
      "Column 'libelle_code_formacode_principal' not found, skipping rename.\n",
      "Column 'libelle_nsf_1' not found, skipping rename.\n",
      "Column 'libelle_nsf_2' not found, skipping rename.\n",
      "Column 'libelle_nsf_3' not found, skipping rename.\n",
      "Column 'numero_formation' not found, skipping rename.\n",
      "Column 'intitule_formation' not found, skipping rename.\n",
      "Column 'points_forts' not found, skipping rename.\n",
      "Column 'nb_session_active' not found, skipping rename.\n",
      "Column 'nb_session_a_distance' not found, skipping rename.\n",
      "Column 'nombre_heures_total_min' not found, skipping rename.\n",
      "Column 'nombre_heures_total_max' not found, skipping rename.\n",
      "Column 'nombre_heures_total_mean' not found, skipping rename.\n",
      "Column 'frais_ttc_tot_min' not found, skipping rename.\n",
      "Column 'frais_ttc_tot_max' not found, skipping rename.\n",
      "Column 'frais_ttc_tot_mean' not found, skipping rename.\n"
     ]
    }
   ],
   "source": [
    "# Rename the columns\n",
    "for old_name, new_name in columns_to_rename.items():\n",
    "    if old_name in df_courses_data.columns:\n",
    "        df_courses_data = df_courses_data.withColumnRenamed(old_name, new_name)\n",
    "    else:\n",
    "        print(f\"Column '{old_name}' not found, skipping rename.\")"
   ]
  },
  {
   "cell_type": "code",
   "execution_count": 20,
   "metadata": {},
   "outputs": [
    {
     "data": {
      "text/plain": [
       "['date_extract',\n",
       " 'provider',\n",
       " 'department',\n",
       " 'region',\n",
       " 'type_referentiel',\n",
       " 'code_inventaire',\n",
       " 'code_rncp',\n",
       " 'certification_title',\n",
       " 'training_exit_level',\n",
       " 'code_formacode_1',\n",
       " 'code_formacode_2',\n",
       " 'code_formacode_3',\n",
       " 'code_formacode_4',\n",
       " 'code_formacode_5',\n",
       " 'main_formacode_desc',\n",
       " 'code_rome_1',\n",
       " 'code_rome_2',\n",
       " 'code_rome_3',\n",
       " 'code_rome_4',\n",
       " 'code_rome_5',\n",
       " 'nsf_code_1_desc',\n",
       " 'nsf_code_2_desc',\n",
       " 'nsf_code_3_desc',\n",
       " 'code_nsf_1',\n",
       " 'code_nsf_2',\n",
       " 'code_nsf_3',\n",
       " 'code_certifinfo',\n",
       " 'provider_ID',\n",
       " 'training_ID',\n",
       " 'title',\n",
       " 'strengths',\n",
       " 'objectif_formation',\n",
       " 'contenu_formation',\n",
       " 'resultats_attendus_formation',\n",
       " 'nb_action',\n",
       " 'nb_active_session',\n",
       " 'nb_distant_session',\n",
       " 'duration_min',\n",
       " 'duration_max',\n",
       " 'duration_mean',\n",
       " 'cost_min',\n",
       " 'cost_max',\n",
       " 'cost_mean',\n",
       " 'code_departement',\n",
       " 'code_region',\n",
       " 'nbaction_nbheures',\n",
       " 'coderegion_export']"
      ]
     },
     "execution_count": 20,
     "metadata": {},
     "output_type": "execute_result"
    }
   ],
   "source": [
    "df_courses.columns"
   ]
  },
  {
   "cell_type": "code",
   "execution_count": 50,
   "metadata": {},
   "outputs": [
    {
     "data": {
      "text/plain": [
       "StructType([StructField('date_extract', DateType(), True), StructField('provider', StringType(), True), StructField('department', StringType(), True), StructField('region', StringType(), True), StructField('type_referentiel', StringType(), True), StructField('code_inventaire', StringType(), True), StructField('code_rncp', StringType(), True), StructField('certification_title', StringType(), True), StructField('training_exit_level', StringType(), True), StructField('code_formacode_1', StringType(), True), StructField('code_formacode_2', StringType(), True), StructField('code_formacode_3', StringType(), True), StructField('code_formacode_4', StringType(), True), StructField('code_formacode_5', StringType(), True), StructField('main_formacode_desc', StringType(), True), StructField('code_rome_1', StringType(), True), StructField('code_rome_2', StringType(), True), StructField('code_rome_3', StringType(), True), StructField('code_rome_4', StringType(), True), StructField('code_rome_5', StringType(), True), StructField('nsf_code_1_desc', StringType(), True), StructField('nsf_code_2_desc', StringType(), True), StructField('nsf_code_3_desc', StringType(), True), StructField('code_nsf_1', StringType(), True), StructField('code_nsf_2', StringType(), True), StructField('code_nsf_3', StringType(), True), StructField('code_certifinfo', StringType(), True), StructField('provider_ID', StringType(), True), StructField('training_ID', StringType(), True), StructField('title', StringType(), True), StructField('strengths', StringType(), True), StructField('objectif_formation', StringType(), True), StructField('contenu_formation', StringType(), True), StructField('resultats_attendus_formation', StringType(), True), StructField('nb_action', LongType(), True), StructField('nb_active_session', LongType(), True), StructField('nb_distant_session', LongType(), True), StructField('duration_min', LongType(), True), StructField('duration_max', LongType(), True), StructField('duration_mean', LongType(), True), StructField('cost_min', DoubleType(), True), StructField('cost_max', DoubleType(), True), StructField('cost_mean', DoubleType(), True), StructField('code_departement', StringType(), True), StructField('code_region', StringType(), True), StructField('nbaction_nbheures', LongType(), True), StructField('coderegion_export', StringType(), True)])"
      ]
     },
     "execution_count": 50,
     "metadata": {},
     "output_type": "execute_result"
    }
   ],
   "source": [
    "df_courses_data.schema"
   ]
  },
  {
   "cell_type": "code",
   "execution_count": 51,
   "metadata": {},
   "outputs": [
    {
     "name": "stderr",
     "output_type": "stream",
     "text": [
      "                                                                                \r"
     ]
    }
   ],
   "source": [
    "df_courses_data.coalesce(1).write.parquet('gs://jugnu-france-course-enrollments/courses_enrol_data_2025_03_20/courses_filtered', mode='overwrite')"
   ]
  },
  {
   "cell_type": "markdown",
   "metadata": {},
   "source": [
    "S.unique_row_id, S.date_extract, S.provider, S.department, S.region, S.type_referential, S.code_rs, S.code_rncp, S.certification_title, S.training_exit_level, S.code_formacode_1, S.code_formacode_2, S.code_formacode_3, S.code_formacode_4, S.code_formacode_5, S.main_formacode_desc, S.code_rome_1, S.code_rome_2, S.code_rome_3, S.code_rome_4, S.code_rome_5, S.nsf_code_1_desc, S.nsf_code_2_desc, S.nsf_code_3_desc, S.nsf_code_1, S.nsf_code_2, S.nsf_code_3, S.code_certification, S.provider_id, S.training_id, S.training_title, S.strong_points, S.training_objective, S.training_content, S.expected_training_results, S.trianing_module_count, S.nb_session_active, S.nb_remote_session, S.duration_min, S.duration_max, S.duration_mean, S.fees_min, S.fees_max, S.fees_mean, S.department_code, S.region_code, S.nb_hours, S.coderegion_export"
   ]
  },
  {
   "cell_type": "markdown",
   "metadata": {},
   "source": [
    "# earlier"
   ]
  },
  {
   "cell_type": "code",
   "execution_count": null,
   "metadata": {},
   "outputs": [],
   "source": [
    "def translate_batch(unique_values):\n",
    "    translations = {}\n",
    "    translator = GoogleTranslator(source='auto', target='en')\n",
    "    for value in unique_values:\n",
    "        if value is not None:\n",
    "            try:\n",
    "                translations[value] = translator.translate(value)\n",
    "            except Exception as e:\n",
    "                print(f\"Translation error: {e}\")\n",
    "                translations[value] = None\n",
    "        else:\n",
    "            translations[value] = None\n",
    "    return translations"
   ]
  },
  {
   "cell_type": "code",
   "execution_count": null,
   "metadata": {},
   "outputs": [],
   "source": [
    "columns_to_translate = ['certification_title'] #, 'title', 'main_formacode_desc']\n",
    "translation_maps = {}"
   ]
  },
  {
   "cell_type": "code",
   "execution_count": null,
   "metadata": {},
   "outputs": [],
   "source": [
    "print(f\"Number of partitions: {df_courses.rdd.getNumPartitions()}\")"
   ]
  },
  {
   "cell_type": "code",
   "execution_count": null,
   "metadata": {},
   "outputs": [],
   "source": [
    "df_courses = df_courses.repartition(24)"
   ]
  },
  {
   "cell_type": "code",
   "execution_count": null,
   "metadata": {},
   "outputs": [],
   "source": [
    "for col_name in columns_to_translate:\n",
    "    unique_values = [row[0] for row in df_courses.select(col_name).distinct().collect()]\n",
    "    translation_maps[col_name] = translate_batch(unique_values)"
   ]
  },
  {
   "cell_type": "code",
   "execution_count": null,
   "metadata": {},
   "outputs": [],
   "source": [
    "for col_name in columns_to_translate:\n",
    "    translation_map = translation_maps[col_name]\n",
    "    broadcasted_map = sc.broadcast(translation_map)\n",
    "\n",
    "    @F.udf(returnType=T.StringType())\n",
    "    def lookup_translation(input_value):\n",
    "        return broadcasted_map.value.get(input_value)\n",
    "\n",
    "    df_courses = df_courses.withColumn(f'{col_name}_en', lookup_translation(F.col(col_name)))"
   ]
  },
  {
   "cell_type": "code",
   "execution_count": null,
   "metadata": {},
   "outputs": [],
   "source": [
    "@F.udf(returnType=T.StringType())\n",
    "def translate(input):\n",
    "    if input is None:\n",
    "        return None  # Or return \"\" if you prefer an empty string\n",
    "    try:\n",
    "        return GoogleTranslator(source='auto', target='en').translate(input)\n",
    "    except NotValidPayload:\n",
    "        return None #Or some other error handling.\n",
    "    except Exception as e:\n",
    "        print(f\"Translation error: {e}\")\n",
    "        return None"
   ]
  },
  {
   "cell_type": "code",
   "execution_count": null,
   "metadata": {},
   "outputs": [],
   "source": [
    "df_courses = df_courses\\\n",
    "            .withColumn('certification_title_en', translate(F.col('certification_title')))\\\n",
    "            .withColumn('title_en', translate(F.col('title')))\\\n",
    "            .withColumn('main_formacode_desc_en', translate(F.col('main_formacode_desc')))"
   ]
  },
  {
   "cell_type": "code",
   "execution_count": null,
   "metadata": {},
   "outputs": [],
   "source": [
    "df_courses.show(5)"
   ]
  },
  {
   "cell_type": "code",
   "execution_count": null,
   "metadata": {},
   "outputs": [],
   "source": [
    "df_courses\\\n",
    "    .write\\\n",
    "    .parquet('gs://jugnu-france-course-enrollments/courses_data/courses_raw_parquet/france_courses_en.parquet', mode='overwrite')"
   ]
  },
  {
   "cell_type": "code",
   "execution_count": null,
   "metadata": {},
   "outputs": [],
   "source": [
    "import pandas as pd\n",
    "import gcsfs\n",
    "import os\n",
    "\n",
    "def read_parquet_from_gcs(gcs_path, credentials_path):\n",
    "    \"\"\"Reads a Parquet file from Google Cloud Storage into a pandas DataFrame.\"\"\"\n",
    "    try:\n",
    "        # Set the environment variable within the function\n",
    "        os.environ[\"GOOGLE_APPLICATION_CREDENTIALS\"] = \"gcs.json\"\n",
    "\n",
    "        fs = gcsfs.GCSFileSystem()\n",
    "        with fs.open(gcs_path) as f:\n",
    "            df = pd.read_parquet(f, )\n",
    "        return df\n",
    "    except Exception as e:\n",
    "        print(f\"Error reading Parquet file: {e}\")\n",
    "        return None\n",
    "\n",
    "# Example usage:\n",
    "gcs_path = \"gs://your-bucket/path/to/your/file.parquet\"  # Replace with your GCS path\n",
    "credentials_path = \"gcs.json\"  # Replace with your path\n",
    "\n",
    "df = read_parquet_from_gcs(gcs_path, credentials_path)\n",
    "\n",
    "if df is not None:\n",
    "    print(df.head())"
   ]
  }
 ],
 "metadata": {
  "kernelspec": {
   "display_name": "de-zoomcamp",
   "language": "python",
   "name": "python3"
  },
  "language_info": {
   "codemirror_mode": {
    "name": "ipython",
    "version": 3
   },
   "file_extension": ".py",
   "mimetype": "text/x-python",
   "name": "python",
   "nbconvert_exporter": "python",
   "pygments_lexer": "ipython3",
   "version": "3.9.16"
  }
 },
 "nbformat": 4,
 "nbformat_minor": 2
}
