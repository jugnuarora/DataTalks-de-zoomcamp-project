{
 "cells": [
  {
   "cell_type": "code",
   "execution_count": null,
   "metadata": {},
   "outputs": [],
   "source": [
    "import sys\n",
    "print(sys.executable)\n",
    "print(sys.path)"
   ]
  },
  {
   "cell_type": "code",
   "execution_count": null,
   "metadata": {},
   "outputs": [],
   "source": [
    "import findspark\n",
    "findspark.init() #This line initializes findspark."
   ]
  },
  {
   "cell_type": "code",
   "execution_count": 2,
   "metadata": {},
   "outputs": [],
   "source": [
    "import os\n",
    "os.environ['SPARK_HOME'] = \"/opt/homebrew/Cellar/apache-spark/3.5.4/libexec\" #Or your spark home.\n",
    "import findspark\n",
    "findspark.init()"
   ]
  },
  {
   "cell_type": "code",
   "execution_count": 3,
   "metadata": {},
   "outputs": [],
   "source": [
    "import pyspark\n",
    "from pyspark.sql import SparkSession\n",
    "from pyspark.conf import SparkConf\n",
    "from pyspark.context import SparkContext\n",
    "from pyspark.sql import functions as F\n",
    "#from pyspark.sql import types as T\n",
    "from pyspark.sql.functions import col\n",
    "from pyspark.sql import types\n",
    "#from deep_translator import GoogleTranslator"
   ]
  },
  {
   "cell_type": "code",
   "execution_count": 4,
   "metadata": {},
   "outputs": [],
   "source": [
    "credentials_location = './gcs.json'\n",
    "\n",
    "conf = SparkConf() \\\n",
    "    .setMaster('local[*]') \\\n",
    "    .setAppName('test') \\\n",
    "    .set(\"spark.jars\", \"./lib/gcs-connector-hadoop3-2.2.5.jar\") \\\n",
    "    .set(\"spark.hadoop.google.cloud.auth.service.account.enable\", \"true\") \\\n",
    "    .set(\"spark.hadoop.google.cloud.auth.service.account.json.keyfile\", credentials_location) \\\n",
    "    .set(\"spark.driver.extraClassPath\", \"./lib/gcs-connector-hadoop3-2.2.5.jar\") \\\n",
    "    .set(\"spark.executor.extraClassPath\", \"./lib/gcs-connector-hadoop3-2.2.5.jar\")"
   ]
  },
  {
   "cell_type": "code",
   "execution_count": 5,
   "metadata": {},
   "outputs": [
    {
     "name": "stderr",
     "output_type": "stream",
     "text": [
      "25/03/20 23:28:42 WARN NativeCodeLoader: Unable to load native-hadoop library for your platform... using builtin-java classes where applicable\n",
      "Setting default log level to \"WARN\".\n",
      "To adjust logging level use sc.setLogLevel(newLevel). For SparkR, use setLogLevel(newLevel).\n"
     ]
    }
   ],
   "source": [
    "sc = SparkContext(conf=conf)\n",
    "\n",
    "hadoop_conf = sc._jsc.hadoopConfiguration()\n",
    "\n",
    "hadoop_conf.set(\"fs.AbstractFileSystem.gs.impl\",  \"com.google.cloud.hadoop.fs.gcs.GoogleHadoopFS\")\n",
    "hadoop_conf.set(\"fs.gs.impl\", \"com.google.cloud.hadoop.fs.gcs.GoogleHadoopFileSystem\")\n",
    "hadoop_conf.set(\"fs.gs.auth.service.account.json.keyfile\", credentials_location)\n",
    "hadoop_conf.set(\"fs.gs.auth.service.account.enable\", \"true\")"
   ]
  },
  {
   "cell_type": "code",
   "execution_count": null,
   "metadata": {},
   "outputs": [],
   "source": [
    "spark.stop()"
   ]
  },
  {
   "cell_type": "code",
   "execution_count": 6,
   "metadata": {},
   "outputs": [],
   "source": [
    "spark = SparkSession.builder \\\n",
    "    .config(conf=sc.getConf()) \\\n",
    "    .getOrCreate()"
   ]
  },
  {
   "cell_type": "code",
   "execution_count": 7,
   "metadata": {},
   "outputs": [
    {
     "name": "stderr",
     "output_type": "stream",
     "text": [
      "                                                                                \r"
     ]
    }
   ],
   "source": [
    "df_courses = spark.read.option(\"header\", \"true\").parquet('gs://jugnu-france-course-enrollments/courses_enrol_data_2025_03_20/courses_raw_parquet/*.parquet')"
   ]
  },
  {
   "cell_type": "code",
   "execution_count": null,
   "metadata": {},
   "outputs": [],
   "source": [
    "df_courses.show(5)"
   ]
  },
  {
   "cell_type": "code",
   "execution_count": 8,
   "metadata": {},
   "outputs": [
    {
     "data": {
      "text/plain": [
       "StructType([StructField('date_extract', StringType(), True), StructField('nom_of', StringType(), True), StructField('nom_departement', StringType(), True), StructField('nom_region', StringType(), True), StructField('type_referentiel', StringType(), True), StructField('code_inventaire', LongType(), True), StructField('code_rncp', LongType(), True), StructField('intitule_certification', StringType(), True), StructField('libelle_niveau_sortie_formation', StringType(), True), StructField('code_formacode_1', DoubleType(), True), StructField('code_formacode_2', DoubleType(), True), StructField('code_formacode_3', DoubleType(), True), StructField('code_formacode_4', DoubleType(), True), StructField('code_formacode_5', DoubleType(), True), StructField('libelle_code_formacode_principal', StringType(), True), StructField('code_rome_1', StringType(), True), StructField('code_rome_2', StringType(), True), StructField('code_rome_3', StringType(), True), StructField('code_rome_4', StringType(), True), StructField('code_rome_5', StringType(), True), StructField('libelle_nsf_1', StringType(), True), StructField('libelle_nsf_2', StringType(), True), StructField('libelle_nsf_3', StringType(), True), StructField('code_nsf_1', DoubleType(), True), StructField('code_nsf_2', DoubleType(), True), StructField('code_nsf_3', DoubleType(), True), StructField('code_certifinfo', LongType(), True), StructField('siret', LongType(), True), StructField('numero_formation', StringType(), True), StructField('intitule_formation', StringType(), True), StructField('points_forts', StringType(), True), StructField('objectif_formation', StringType(), True), StructField('contenu_formation', StringType(), True), StructField('resultats_attendus_formation', StringType(), True), StructField('nb_action', LongType(), True), StructField('nb_session_active', LongType(), True), StructField('nb_session_a_distance', LongType(), True), StructField('nombre_heures_total_min', LongType(), True), StructField('nombre_heures_total_max', LongType(), True), StructField('nombre_heures_total_mean', LongType(), True), StructField('frais_ttc_tot_min', DoubleType(), True), StructField('frais_ttc_tot_max', DoubleType(), True), StructField('frais_ttc_tot_mean', DoubleType(), True), StructField('code_departement', StringType(), True), StructField('code_region', StringType(), True), StructField('nbaction_nbheures', LongType(), True), StructField('coderegion_export', StringType(), True)])"
      ]
     },
     "execution_count": 8,
     "metadata": {},
     "output_type": "execute_result"
    }
   ],
   "source": [
    "df_courses.schema"
   ]
  },
  {
   "cell_type": "code",
   "execution_count": null,
   "metadata": {},
   "outputs": [],
   "source": [
    "schema = types.StructType([\n",
    "    types.StructField('date_extract', types.StringType(), True), \n",
    "    types.StructField('nom_of', types.StringType(), True), \n",
    "    types.StructField('nom_departement', types.StringType(), True), \n",
    "    types.StructField('nom_region', types.StringType(), True), \n",
    "    types.StructField('type_referentiel', types.StringType(), True), \n",
    "    types.StructField('code_inventaire', types.LongType(), True), \n",
    "    types.StructField('code_rncp', types.LongType(), True), \n",
    "    types.StructField('intitule_certification', types.StringType(), True), \n",
    "    types.StructField('libelle_niveau_sortie_formation', types.StringType(), True), \n",
    "    types.StructField('code_formacode_1', types.DoubleType(), True), \n",
    "    types.StructField('code_formacode_2', types.DoubleType(), True), \n",
    "    types.StructField('code_formacode_3', types.DoubleType(), True), \n",
    "    types.StructField('code_formacode_4', types.DoubleType(), True), \n",
    "    types.StructField('code_formacode_5', types.DoubleType(), True), \n",
    "    types.StructField('libelle_code_formacode_principal', types.StringType(), True), \n",
    "    types.StructField('code_rome_1', types.StringType(), True), \n",
    "    types.StructField('code_rome_2', types.StringType(), True), \n",
    "    types.StructField('code_rome_3', types.StringType(), True), \n",
    "    types.StructField('code_rome_4', types.StringType(), True), \n",
    "    types.StructField('code_rome_5', types.StringType(), True), \n",
    "    types.StructField('libelle_nsf_1', types.StringType(), True), \n",
    "    types.StructField('libelle_nsf_2', types.StringType(), True), \n",
    "    types.StructField('libelle_nsf_3', types.StringType(), True), \n",
    "    types.StructField('code_nsf_1', types.StringType(), True), \n",
    "    types.StructField('code_nsf_2', types.StringType(), True), \n",
    "    types.StructField('code_nsf_3', types.StringType(), True), \n",
    "    types.StructField('code_certifinfo', types.StringType(), True), \n",
    "    types.StructField('siret', types.StringType(), True), \n",
    "    types.StructField('numero_formation', types.StringType(), True), \n",
    "    types.StructField('intitule_formation', types.StringType(), True), \n",
    "    types.StructField('points_forts', types.StringType(), True), \n",
    "    types.StructField('objectif_formation', types.StringType(), True), \n",
    "    types.StructField('contenu_formation', types.StringType(), True), \n",
    "    types.StructField('resultats_attendus_formation', types.StringType(), True), \n",
    "    types.StructField('nb_action', types.IntegerType(), True), \n",
    "    types.StructField('nb_session_active', types.IntegerType(), True), \n",
    "    types.StructField('nb_session_a_distance', types.IntegerType(), True), \n",
    "    types.StructField('nombre_heures_total_min', types.IntegerType(), True), \n",
    "    types.StructField('nombre_heures_total_max', types.IntegerType(), True), \n",
    "    types.StructField('nombre_heures_total_mean', types.IntegerType(), True), \n",
    "    types.StructField('frais_ttc_tot_min', types.FloatType(), True), \n",
    "    types.StructField('frais_ttc_tot_max', types.FloatType(), True), \n",
    "    types.StructField('frais_ttc_tot_mean', types.FloatType(), True), \n",
    "    types.StructField('code_departement', types.StringType(), True), \n",
    "    types.StructField('code_region', types.StringType(), True), \n",
    "    types.StructField('nbaction_nbheures', types.IntegerType(), True), \n",
    "    types.StructField('coderegion_export', types.StringType(), True)\n",
    "    ])"
   ]
  },
  {
   "cell_type": "code",
   "execution_count": null,
   "metadata": {},
   "outputs": [],
   "source": [
    "df_courses_s = spark.read.option(\"header\", \"true\").schema(schema).parquet('gs://jugnu-france-course-enrollments/courses_data/courses_raw_parquet/*.parquet')"
   ]
  },
  {
   "cell_type": "code",
   "execution_count": null,
   "metadata": {},
   "outputs": [],
   "source": [
    "# Cast the 'code_inventaire' column to a string\n",
    "df_courses = df_courses.withColumn(\"code_inventaire\", df_courses[\"code_inventaire\"].cast(types.StringType()))\\\n",
    "    .withColumn(\"code_rncp\", df_courses[\"code_rncp\"].cast(types.StringType()))\\\n",
    "    .withColumn(\"code_formacode_1\", df_courses[\"code_formacode_1\"].cast(types.StringType()))\\\n",
    "    .withColumn(\"code_formacode_2\", df_courses[\"code_formacode_2\"].cast(types.StringType()))\\\n",
    "    .withColumn(\"code_formacode_3\", df_courses[\"code_formacode_3\"].cast(types.StringType()))\\\n",
    "    .withColumn(\"code_formacode_4\", df_courses[\"code_formacode_4\"].cast(types.StringType()))\\\n",
    "    .withColumn(\"code_formacode_5\", df_courses[\"code_formacode_5\"].cast(types.StringType()))\\\n",
    "    .withColumn(\"code_nsf_1\", df_courses[\"code_nsf_1\"].cast(types.StringType()))\\\n",
    "    .withColumn(\"code_nsf_2\", df_courses[\"code_nsf_2\"].cast(types.StringType()))\\\n",
    "    .withColumn(\"code_nsf_3\", df_courses[\"code_nsf_3\"].cast(types.StringType()))\\\n",
    "    .withColumn(\"code_certifinfo\", df_courses[\"code_certifinfo\"].cast(types.StringType()))\\\n",
    "    .withColumn(\"siret\", df_courses[\"siret\"].cast(types.StringType()))"
   ]
  },
  {
   "cell_type": "code",
   "execution_count": null,
   "metadata": {},
   "outputs": [],
   "source": []
  },
  {
   "cell_type": "code",
   "execution_count": null,
   "metadata": {},
   "outputs": [],
   "source": [
    "df_courses.head(2)"
   ]
  },
  {
   "cell_type": "code",
   "execution_count": null,
   "metadata": {},
   "outputs": [],
   "source": [
    "# Convert the string to a timestamp with the correct format\n",
    "df_courses_data = df_courses.withColumn('date_extract', F.to_date(F.col('date_extract'), 'yyyy-MM-dd'))\n"
   ]
  },
  {
   "cell_type": "code",
   "execution_count": null,
   "metadata": {},
   "outputs": [],
   "source": [
    "df_courses_data.head(2)"
   ]
  },
  {
   "cell_type": "code",
   "execution_count": null,
   "metadata": {},
   "outputs": [],
   "source": [
    "# Assuming your DataFrame is named df\n",
    "\n",
    "filter_values = [\n",
    "    \"Informatique, traitement de l'information, réseaux de transmission\",\n",
    "    \"Enseignement, formation\",\n",
    "    \"Commerce, vente\",\n",
    "    \"Comptabilite, gestion\",\n",
    "    \"Spécialités pluri-scientifiques\",\n",
    "    \"Spécialites plurivalentes de la communication et de l'information\"\n",
    "]"
   ]
  },
  {
   "cell_type": "code",
   "execution_count": null,
   "metadata": {},
   "outputs": [],
   "source": [
    "df_courses_data = df_courses_data.filter(col(\"libelle_nsf_1\").isin(filter_values))"
   ]
  },
  {
   "cell_type": "code",
   "execution_count": null,
   "metadata": {},
   "outputs": [],
   "source": [
    "df_courses.count()"
   ]
  },
  {
   "cell_type": "code",
   "execution_count": null,
   "metadata": {},
   "outputs": [],
   "source": [
    "# Define the columns to rename and their new names\n",
    "columns_to_rename = {\n",
    "    'nom_of': 'provider',\n",
    "    'siret': 'provider_ID',\n",
    "    'nom_region': 'region',\n",
    "    'nom_departement': 'department',\n",
    "    'intitule_certification': 'certification_title',\n",
    "    'libelle_niveau_sortie_formation': 'training_exit_level',\n",
    "    'libelle_code_formacode_principal': 'main_formacode_desc',\n",
    "    'libelle_nsf_1': 'nsf_code_1_desc',\n",
    "    'libelle_nsf_2': 'nsf_code_2_desc',\n",
    "    'libelle_nsf_3': 'nsf_code_3_desc',\n",
    "    'numero_formation': 'training_ID',\n",
    "    'intitule_formation': 'title',\n",
    "    'points_forts': 'strengths',\n",
    "    'nb_session_active': 'nb_active_session',\n",
    "    'nb_session_a_distance': 'nb_distant_session',\n",
    "    'nombre_heures_total_min': 'duration_min',\n",
    "    'nombre_heures_total_max': 'duration_max',\n",
    "    'nombre_heures_total_mean': 'duration_mean',\n",
    "    'frais_ttc_tot_min': 'cost_min',\n",
    "    'frais_ttc_tot_max': 'cost_max',\n",
    "    'frais_ttc_tot_mean': 'cost_mean'\n",
    "}"
   ]
  },
  {
   "cell_type": "code",
   "execution_count": null,
   "metadata": {},
   "outputs": [],
   "source": [
    "# Rename the columns\n",
    "for old_name, new_name in columns_to_rename.items():\n",
    "    if old_name in df_courses_data.columns:\n",
    "        df_courses_data = df_courses_data.withColumnRenamed(old_name, new_name)\n",
    "    else:\n",
    "        print(f\"Column '{old_name}' not found, skipping rename.\")"
   ]
  },
  {
   "cell_type": "code",
   "execution_count": null,
   "metadata": {},
   "outputs": [],
   "source": [
    "df_courses.columns"
   ]
  },
  {
   "cell_type": "code",
   "execution_count": null,
   "metadata": {},
   "outputs": [],
   "source": [
    "df_courses_data.schema"
   ]
  },
  {
   "cell_type": "code",
   "execution_count": null,
   "metadata": {},
   "outputs": [],
   "source": [
    "df_courses_data.coalesce(1).write.parquet('gs://jugnu-france-course-enrollments/courses_enrol_data_2025_03_20/courses_filtered', mode='overwrite')"
   ]
  },
  {
   "cell_type": "markdown",
   "metadata": {},
   "source": [
    "S.unique_row_id, S.date_extract, S.provider, S.department, S.region, S.type_referential, S.code_rs, S.code_rncp, S.certification_title, S.training_exit_level, S.code_formacode_1, S.code_formacode_2, S.code_formacode_3, S.code_formacode_4, S.code_formacode_5, S.main_formacode_desc, S.code_rome_1, S.code_rome_2, S.code_rome_3, S.code_rome_4, S.code_rome_5, S.nsf_code_1_desc, S.nsf_code_2_desc, S.nsf_code_3_desc, S.nsf_code_1, S.nsf_code_2, S.nsf_code_3, S.code_certification, S.provider_id, S.training_id, S.training_title, S.strong_points, S.training_objective, S.training_content, S.expected_training_results, S.trianing_module_count, S.nb_session_active, S.nb_remote_session, S.duration_min, S.duration_max, S.duration_mean, S.fees_min, S.fees_max, S.fees_mean, S.department_code, S.region_code, S.nb_hours, S.coderegion_export"
   ]
  },
  {
   "cell_type": "markdown",
   "metadata": {},
   "source": [
    "# earlier"
   ]
  },
  {
   "cell_type": "code",
   "execution_count": null,
   "metadata": {},
   "outputs": [],
   "source": [
    "def translate_batch(unique_values):\n",
    "    translations = {}\n",
    "    translator = GoogleTranslator(source='auto', target='en')\n",
    "    for value in unique_values:\n",
    "        if value is not None:\n",
    "            try:\n",
    "                translations[value] = translator.translate(value)\n",
    "            except Exception as e:\n",
    "                print(f\"Translation error: {e}\")\n",
    "                translations[value] = None\n",
    "        else:\n",
    "            translations[value] = None\n",
    "    return translations"
   ]
  },
  {
   "cell_type": "code",
   "execution_count": null,
   "metadata": {},
   "outputs": [],
   "source": [
    "columns_to_translate = ['certification_title'] #, 'title', 'main_formacode_desc']\n",
    "translation_maps = {}"
   ]
  },
  {
   "cell_type": "code",
   "execution_count": null,
   "metadata": {},
   "outputs": [],
   "source": [
    "print(f\"Number of partitions: {df_courses.rdd.getNumPartitions()}\")"
   ]
  },
  {
   "cell_type": "code",
   "execution_count": null,
   "metadata": {},
   "outputs": [],
   "source": [
    "df_courses = df_courses.repartition(24)"
   ]
  },
  {
   "cell_type": "code",
   "execution_count": null,
   "metadata": {},
   "outputs": [],
   "source": [
    "for col_name in columns_to_translate:\n",
    "    unique_values = [row[0] for row in df_courses.select(col_name).distinct().collect()]\n",
    "    translation_maps[col_name] = translate_batch(unique_values)"
   ]
  },
  {
   "cell_type": "code",
   "execution_count": null,
   "metadata": {},
   "outputs": [],
   "source": [
    "for col_name in columns_to_translate:\n",
    "    translation_map = translation_maps[col_name]\n",
    "    broadcasted_map = sc.broadcast(translation_map)\n",
    "\n",
    "    @F.udf(returnType=T.StringType())\n",
    "    def lookup_translation(input_value):\n",
    "        return broadcasted_map.value.get(input_value)\n",
    "\n",
    "    df_courses = df_courses.withColumn(f'{col_name}_en', lookup_translation(F.col(col_name)))"
   ]
  },
  {
   "cell_type": "code",
   "execution_count": null,
   "metadata": {},
   "outputs": [],
   "source": [
    "@F.udf(returnType=T.StringType())\n",
    "def translate(input):\n",
    "    if input is None:\n",
    "        return None  # Or return \"\" if you prefer an empty string\n",
    "    try:\n",
    "        return GoogleTranslator(source='auto', target='en').translate(input)\n",
    "    except NotValidPayload:\n",
    "        return None #Or some other error handling.\n",
    "    except Exception as e:\n",
    "        print(f\"Translation error: {e}\")\n",
    "        return None"
   ]
  },
  {
   "cell_type": "code",
   "execution_count": null,
   "metadata": {},
   "outputs": [],
   "source": [
    "df_courses = df_courses\\\n",
    "            .withColumn('certification_title_en', translate(F.col('certification_title')))\\\n",
    "            .withColumn('title_en', translate(F.col('title')))\\\n",
    "            .withColumn('main_formacode_desc_en', translate(F.col('main_formacode_desc')))"
   ]
  },
  {
   "cell_type": "code",
   "execution_count": null,
   "metadata": {},
   "outputs": [],
   "source": [
    "df_courses.show(5)"
   ]
  },
  {
   "cell_type": "code",
   "execution_count": null,
   "metadata": {},
   "outputs": [],
   "source": [
    "df_courses\\\n",
    "    .write\\\n",
    "    .parquet('gs://jugnu-france-course-enrollments/courses_data/courses_raw_parquet/france_courses_en.parquet', mode='overwrite')"
   ]
  },
  {
   "cell_type": "code",
   "execution_count": null,
   "metadata": {},
   "outputs": [],
   "source": [
    "import pandas as pd\n",
    "import gcsfs\n",
    "import os\n",
    "\n",
    "def read_parquet_from_gcs(gcs_path, credentials_path):\n",
    "    \"\"\"Reads a Parquet file from Google Cloud Storage into a pandas DataFrame.\"\"\"\n",
    "    try:\n",
    "        # Set the environment variable within the function\n",
    "        os.environ[\"GOOGLE_APPLICATION_CREDENTIALS\"] = \"gcs.json\"\n",
    "\n",
    "        fs = gcsfs.GCSFileSystem()\n",
    "        with fs.open(gcs_path) as f:\n",
    "            df = pd.read_parquet(f, )\n",
    "        return df\n",
    "    except Exception as e:\n",
    "        print(f\"Error reading Parquet file: {e}\")\n",
    "        return None\n",
    "\n",
    "# Example usage:\n",
    "gcs_path = \"gs://your-bucket/path/to/your/file.parquet\"  # Replace with your GCS path\n",
    "credentials_path = \"gcs.json\"  # Replace with your path\n",
    "\n",
    "df = read_parquet_from_gcs(gcs_path, credentials_path)\n",
    "\n",
    "if df is not None:\n",
    "    print(df.head())"
   ]
  }
 ],
 "metadata": {
  "kernelspec": {
   "display_name": "de-zoomcamp",
   "language": "python",
   "name": "python3"
  },
  "language_info": {
   "codemirror_mode": {
    "name": "ipython",
    "version": 3
   },
   "file_extension": ".py",
   "mimetype": "text/x-python",
   "name": "python",
   "nbconvert_exporter": "python",
   "pygments_lexer": "ipython3",
   "version": "3.9.16"
  }
 },
 "nbformat": 4,
 "nbformat_minor": 2
}
