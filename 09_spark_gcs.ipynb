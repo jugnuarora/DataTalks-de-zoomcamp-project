{
 "cells": [
  {
   "cell_type": "code",
   "execution_count": 1,
   "metadata": {},
   "outputs": [],
   "source": [
    "import pyspark\n",
    "from pyspark.sql import SparkSession\n",
    "from pyspark.conf import SparkConf\n",
    "from pyspark.context import SparkContext\n",
    "from pyspark.sql import functions as F\n",
    "#from pyspark.sql import types as T\n",
    "from pyspark.sql.functions import col\n",
    "from pyspark.sql import types\n",
    "#from deep_translator import GoogleTranslator"
   ]
  },
  {
   "cell_type": "code",
   "execution_count": 2,
   "metadata": {},
   "outputs": [],
   "source": [
    "credentials_location = './gcs.json'\n",
    "\n",
    "conf = SparkConf() \\\n",
    "    .setMaster('local[*]') \\\n",
    "    .setAppName('test') \\\n",
    "    .set(\"spark.jars\", \"./lib/gcs-connector-hadoop3-2.2.5.jar\") \\\n",
    "    .set(\"spark.hadoop.google.cloud.auth.service.account.enable\", \"true\") \\\n",
    "    .set(\"spark.hadoop.google.cloud.auth.service.account.json.keyfile\", credentials_location) \\\n",
    "    .set(\"spark.driver.extraClassPath\", \"./lib/gcs-connector-hadoop3-2.2.5.jar\") \\\n",
    "    .set(\"spark.executor.extraClassPath\", \"./lib/gcs-connector-hadoop3-2.2.5.jar\")"
   ]
  },
  {
   "cell_type": "code",
   "execution_count": 3,
   "metadata": {},
   "outputs": [
    {
     "name": "stderr",
     "output_type": "stream",
     "text": [
      "25/03/19 11:35:25 WARN NativeCodeLoader: Unable to load native-hadoop library for your platform... using builtin-java classes where applicable\n",
      "Setting default log level to \"WARN\".\n",
      "To adjust logging level use sc.setLogLevel(newLevel). For SparkR, use setLogLevel(newLevel).\n"
     ]
    }
   ],
   "source": [
    "sc = SparkContext(conf=conf)\n",
    "\n",
    "hadoop_conf = sc._jsc.hadoopConfiguration()\n",
    "\n",
    "hadoop_conf.set(\"fs.AbstractFileSystem.gs.impl\",  \"com.google.cloud.hadoop.fs.gcs.GoogleHadoopFS\")\n",
    "hadoop_conf.set(\"fs.gs.impl\", \"com.google.cloud.hadoop.fs.gcs.GoogleHadoopFileSystem\")\n",
    "hadoop_conf.set(\"fs.gs.auth.service.account.json.keyfile\", credentials_location)\n",
    "hadoop_conf.set(\"fs.gs.auth.service.account.enable\", \"true\")"
   ]
  },
  {
   "cell_type": "code",
   "execution_count": 8,
   "metadata": {},
   "outputs": [],
   "source": [
    "spark.stop()"
   ]
  },
  {
   "cell_type": "code",
   "execution_count": 4,
   "metadata": {},
   "outputs": [],
   "source": [
    "spark = SparkSession.builder \\\n",
    "    .config(conf=sc.getConf()) \\\n",
    "    .getOrCreate()"
   ]
  },
  {
   "cell_type": "code",
   "execution_count": 5,
   "metadata": {},
   "outputs": [
    {
     "name": "stderr",
     "output_type": "stream",
     "text": [
      "                                                                                \r"
     ]
    }
   ],
   "source": [
    "df_courses = spark.read.option(\"header\", \"true\").parquet('gs://jugnu-france-course-enrollments/courses_data/courses_raw_parquet/*.parquet')"
   ]
  },
  {
   "cell_type": "code",
   "execution_count": null,
   "metadata": {},
   "outputs": [],
   "source": [
    "df_courses.show(5)"
   ]
  },
  {
   "cell_type": "code",
   "execution_count": null,
   "metadata": {},
   "outputs": [],
   "source": [
    "df_courses.schema"
   ]
  },
  {
   "cell_type": "code",
   "execution_count": null,
   "metadata": {},
   "outputs": [],
   "source": [
    "schema = types.StructType([\n",
    "    types.StructField('date_extract', types.StringType(), True), \n",
    "    types.StructField('nom_of', types.StringType(), True), \n",
    "    types.StructField('nom_departement', types.StringType(), True), \n",
    "    types.StructField('nom_region', types.StringType(), True), \n",
    "    types.StructField('type_referentiel', types.StringType(), True), \n",
    "    types.StructField('code_inventaire', types.IntegerType(), True), \n",
    "    types.StructField('code_rncp', types.IntegerType(), True), \n",
    "    types.StructField('intitule_certification', types.StringType(), True), \n",
    "    types.StructField('libelle_niveau_sortie_formation', types.StringType(), True), \n",
    "    types.StructField('code_formacode_1', types.IntegerType(), True), \n",
    "    types.StructField('code_formacode_2', types.IntegerType(), True), \n",
    "    types.StructField('code_formacode_3', types.IntegerType(), True), \n",
    "    types.StructField('code_formacode_4', types.IntegerType(), True), \n",
    "    types.StructField('code_formacode_5', types.IntegerType(), True), \n",
    "    types.StructField('libelle_code_formacode_principal', types.StringType(), True), \n",
    "    types.StructField('code_rome_1', types.StringType(), True), \n",
    "    types.StructField('code_rome_2', types.StringType(), True), \n",
    "    types.StructField('code_rome_3', types.StringType(), True), \n",
    "    types.StructField('code_rome_4', types.StringType(), True), \n",
    "    types.StructField('code_rome_5', types.StringType(), True), \n",
    "    types.StructField('libelle_nsf_1', types.StringType(), True), \n",
    "    types.StructField('libelle_nsf_2', types.StringType(), True), \n",
    "    types.StructField('libelle_nsf_3', types.StringType(), True), \n",
    "    types.StructField('code_nsf_1', types.IntegerType(), True), \n",
    "    types.StructField('code_nsf_2', types.IntegerType(), True), \n",
    "    types.StructField('code_nsf_3', types.IntegerType(), True), \n",
    "    types.StructField('code_certifinfo', types.IntegerType(), True), \n",
    "    types.StructField('siret', types.LongType(), True), \n",
    "    types.StructField('numero_formation', types.StringType(), True), \n",
    "    types.StructField('intitule_formation', types.StringType(), True), \n",
    "    types.StructField('points_forts', types.StringType(), True), \n",
    "    types.StructField('objectif_formation', types.StringType(), True), \n",
    "    types.StructField('contenu_formation', types.StringType(), True), \n",
    "    types.StructField('resultats_attendus_formation', types.StringType(), True), \n",
    "    types.StructField('nb_action', types.LongType(), True), \n",
    "    types.StructField('nb_session_active', types.IntegerType(), True), \n",
    "    types.StructField('nb_session_a_distance', types.IntegerType(), True), \n",
    "    types.StructField('nombre_heures_total_min', types.IntegerType(), True), \n",
    "    types.StructField('nombre_heures_total_max', types.IntegerType(), True), \n",
    "    types.StructField('nombre_heures_total_mean', types.IntegerType(), True), \n",
    "    types.StructField('frais_ttc_tot_min', types.FloatType(), True), \n",
    "    types.StructField('frais_ttc_tot_max', types.FloatType(), True), \n",
    "    types.StructField('frais_ttc_tot_mean', types.FloatType(), True), \n",
    "    types.StructField('code_departement', types.StringType(), True), \n",
    "    types.StructField('code_region', types.StringType(), True), \n",
    "    types.StructField('nbaction_nbheures', types.IntegerType(), True), \n",
    "    types.StructField('coderegion_export', types.StringType(), True)\n",
    "    ])"
   ]
  },
  {
   "cell_type": "code",
   "execution_count": null,
   "metadata": {},
   "outputs": [],
   "source": [
    "df_courses_s = spark.read.option(\"header\", \"true\").schema(schema).parquet('gs://jugnu-france-course-enrollments/courses_data/courses_raw_parquet/*.parquet')"
   ]
  },
  {
   "cell_type": "code",
   "execution_count": null,
   "metadata": {},
   "outputs": [],
   "source": [
    "df_courses.head(2)"
   ]
  },
  {
   "cell_type": "code",
   "execution_count": 6,
   "metadata": {},
   "outputs": [],
   "source": [
    "# Convert the string to a timestamp with the correct format\n",
    "df_courses_data = df_courses.withColumn('date_extract', F.to_date(F.col('date_extract'), 'yyyy-MM-dd'))\n"
   ]
  },
  {
   "cell_type": "code",
   "execution_count": 7,
   "metadata": {},
   "outputs": [
    {
     "name": "stderr",
     "output_type": "stream",
     "text": [
      "25/03/19 11:35:48 WARN SparkStringUtils: Truncated the string representation of a plan since it was too large. This behavior can be adjusted by setting 'spark.sql.debug.maxToStringFields'.\n",
      "                                                                                \r"
     ]
    },
    {
     "data": {
      "text/plain": [
       "[Row(date_extract=datetime.date(2025, 3, 18), nom_of='DOLFI', nom_departement='Paris', nom_region='Île-de-France', type_referentiel='RS', code_inventaire=6956, code_rncp=-1, intitule_certification='Créer des illustrations vectorielles et des graphiques avec Illustrator (Tosa)', libelle_niveau_sortie_formation=None, code_formacode_1=46006.0, code_formacode_2=71132.0, code_formacode_3=None, code_formacode_4=None, code_formacode_5=None, libelle_code_formacode_principal='acquisition traitement image', code_rome_1=None, code_rome_2=None, code_rome_3=None, code_rome_4=None, code_rome_5=None, libelle_nsf_1=\"Informatique, traitement de l'information, réseaux de transmission\", libelle_nsf_2=\"Spécialites plurivalentes de la communication et de l'information\", libelle_nsf_3=None, code_nsf_1=326.0, code_nsf_2=320.0, code_nsf_3=None, code_certifinfo=118162, siret=43809379100046, numero_formation='43809379100046_ILL03TOSA03', intitule_formation='Logiciel Illustrator', points_forts='Formation de 5 jours (35 heures) sur le logiciel Illustrator bases. <br />Une équipe professionnelle à votre service pour une formation de qualité.<br />\\nNotre centre de formation certifié Qualiopi est situé à Paris proche de la gare saint Lazare.', objectif_formation=\"Formation de 5 jours (35 heures) sur le logiciel Illustrator bases.\\nElle est dispensée en présentiel en notre centre de formation ou bien à distance en classe virtuelle. Les horaires de la formation sont du lundi au vendredi, du 9h00 à 12h30 et 13h30 à 17h00.<br />\\ncette formation est réalisée par notre équipe de formateurs certifiés.<br />\\nNotre centre de formation est situé proche de la gare Saint Lazare, dans le quartier très commerçant des magasins Haussmann. Les groupes sont composés de 8 personnes maximum pour une meilleure pédagogie. <br />\\nObjectifs de la formation:<br />\\nCette formation vous permettra de dessiner et mettre en forme des objets vectoriels avec les fonctions de bases d'illustrator : les outils de dessins et de traitement du tracé, créer des effets, concevoir des masques et des calques, appliquer des transformations et de la peinture dynamique, insérer du texte, travailler sur le dessin (Pathfinder, décomposition).\", contenu_formation=\"PRESENTATION<br />\\nLe plan de travail<br />\\nOutil plan<br />\\nL'espace de travail<br />\\nLes fenêtres<br />\\nRepères<br />\\n<br /><br />\\nTECHNIQUE<br />\\nDessin vectoriel et dessin bitmap<br />\\nRetouches de tracés<br />\\n<br /><br />\\nLES OUTILS<br />\\nDessin libre (crayon, pinceau) <br />\\nOutil plume<br />\\nFormes fermés (rectangle, ellipse, polygones) <br />\\nFormes primitives, trait, arc, spirale, crayon<br />\\nOutil largeur<br />\\nOutils fluidité<br />\\nForme de tâches<br />\\n<br /><br />\\nSELECTION<br />\\nLes différentes flèches, outil baguette magique<br />\\nOutil lasso, mode isolation<br />\\n<br /><br />\\nFORMES DE PINCEAUX<br />\\nCalligraphique, diffuse, artistique<br />\\n<br /><br />\\nDESSIN<br />\\nPathfinder odes de dessin<br />\\nNotion de décomposition<br />\\nOutil concepteur de formes<br />\\nTraitement du trace<br />\\nOutil gomme, ciseaux et cutter<br />\\nDifférents types de points d'ancrage<br />\\nFermer, ouvrir un tracé<br />\\nCouper, relier des tracés<br />\\nDessin à la plume à partir d'un modèle<br />\\n<br />\\nTRANSFORMATION<br />\\nManipulation et disposition<br />\\nDisposition, dupliquer, panneau alignement<br />\\nRotation, symétrie, miroir, mise à l'échelle, déformations<br />\\n<br />\\nLES CALQUES<br />\\nGestion des calques<br />\\nGestion des tracés<br />\\nAssocier, dissocier, verrouiller, masquer<br />\\nDéplacements et copies<br />\\nGroupes<br />\\n<br />\\nCREATION DE MOTIF<br />\\nMéthode de création de motif sans raccords<br />\\nLa colorimétrie<br />\\nCouleurs cmjn, rvb ou tons directs<br />\\nNuanciers Couleurs dynamiques Dégradé linéaire et radial<br />\\nNuances de motifs<br />\\nAnnotateur de dégradé<br />\\n<br />\\nSYMBOLES<br />\\nCréation de symboles<br />\\nPulvérisation de symboles<br />\\n<br />\\nLE TEXTE<br /><br />\\nGestion des caractères\\nGestion des paragraphes<br />\\nTexte captif<br />\\nTexte libre<br />\\nLa typographie\\nLe texte : curviligne, captif Habillage de texte<br />\\nVectorisation du texte Glyphes<br />\\n<br />\\nLES EFFETS<br />\\nGestion des aspects<br />\\nCréation de styles<br />\\nTransparence et opacité<br />\\nFiltres et effets spéciaux<br />\\nTransformations<br />\\nEffets vectoriels et bitmaps, décomposer<br />\\n<br />\\nMASQUE<br />\\nMasque d'écrêtage<br />\\nDessin à l'intérieur<br />\\n<br />\\nOUTILS AVANCEES<br />\\nVectorisation dynamique Effet 3d : extrusion, biseautage et révolution<br />\\nPlacage d'un symbole<br />\\nPeinture dynamique Groupe de peinture, outil pot de peinture<br />\\nOutil sélection de peinture, options d'espace, fusionner<br />\\nImportation Importation liée ou incorporée d'une image bitmap<br />\\nExportation et formats<br />\\nFormats destinés à l'impression papier : pdf, eps, tiff, psd, jpeg<br />\\nFormats destinés au web : svg, swf, animations flash, gif... <br />\\nImpression papier et publication sur le web\", resultats_attendus_formation='Cette formation comprend le passage de la certification TOSA.\\n<br /> Une attestation de formation est remise à la fin du stage.', nb_action=1, nb_session_active=11, nb_session_a_distance=0, nombre_heures_total_min=35, nombre_heures_total_max=35, nombre_heures_total_mean=35, frais_ttc_tot_min=2040.0, frais_ttc_tot_max=2040.0, frais_ttc_tot_mean=2040.0, code_departement='75', code_region='11', nbaction_nbheures=35, coderegion_export='11'),\n",
       " Row(date_extract=datetime.date(2025, 3, 18), nom_of='DOLFI', nom_departement=None, nom_region=None, type_referentiel='RS', code_inventaire=6956, code_rncp=-1, intitule_certification='Créer des illustrations vectorielles et des graphiques avec Illustrator (Tosa)', libelle_niveau_sortie_formation=None, code_formacode_1=46006.0, code_formacode_2=71132.0, code_formacode_3=None, code_formacode_4=None, code_formacode_5=None, libelle_code_formacode_principal='acquisition traitement image', code_rome_1=None, code_rome_2=None, code_rome_3=None, code_rome_4=None, code_rome_5=None, libelle_nsf_1=\"Informatique, traitement de l'information, réseaux de transmission\", libelle_nsf_2=\"Spécialites plurivalentes de la communication et de l'information\", libelle_nsf_3=None, code_nsf_1=326.0, code_nsf_2=320.0, code_nsf_3=None, code_certifinfo=118162, siret=43809379100046, numero_formation='43809379100046_ILL06TOSA01', intitule_formation='Illustrator avancé', points_forts='Une équipe professionnelle à votre service pour une formation de qualité.<br />\\nNotre centre de formation certifié Qualiopi est situé à Paris proche de la gare saint Lazare.', objectif_formation=\"formation de 5 jours (35 heures) dispensée en présentiel en notre centre de formation ou bien à distance en classe virtuelle. Les horaires de la formation sont du lundi au vendredi, du 9h00 à 12h30 et 13h30 à 17h00. <br />\\nObjectifs : <br />\\nDessiner et mettre en forme des objets vectoriels avec les fonctions avancées d'Illustrator : <br />\\nconcevoir un plan en perspective, <br />\\ntravailler sur la typographie, <br />\\ncréer un script, <br />\\nréaliser et modifier un graphe, <br />\\nexporter pour flash et le web, travailler l'aspect, <br />\\ngérer la couleur, réaliser des dégradés, <br />\\nappliquer une distorsion d'enveloppe.\", contenu_formation=\"<h4><b>Aspect </b></h4>\\nAspect avancé Décomposer l'aspect<br />\\nAjouter un nouveau fond<br />\\nAjouter un nouveau contour<br />\\nGestion de multiples fonds et contours, opacité<br />\\n<h4><b>Gestion de la couleur </b></h4>\\nLes règles d'harmonies<br />\\nCouleurs globales\\nCouleurs dynamiques<br />\\nLes nuanciers : pantone Transformation des pantones en quadri<br />\\nRedéfinir les couleurs de l'illustration<br />\\nModifier les couleurs avec le guide des couleurs Kuler, import / export de nuancier<br />\\n<h4><b>Dégradés </b></h4>\\nCréation de dégradés de formes<br />\\nOutil filet, créer un filet de dégradé Transparence sur point de filet<br />\\nDécomposition de dégradé en filet<br />\\n<h4><b>Symbole </b></h4>\\nJeu et instance, mise à l'échelle en 9 tranches<br />\\n<h4><b>Motifs </b></h4>\\nCréation d'un motif répétable<br />\\nEdition du motif<br />\\n<h4><b>Grille de perspective </b></h4>\\nCréation d'un plan en perspective<br />\\nDessin sur le plan<br />\\nOtions du plan<br />\\n<h4><b>Distorsion de l'enveloppe </b></h4>\\nD'après une déformation<br />\\nD'après un filet<br />\\nD'après l'objet au premier plan<br />\\nOptions de l'enveloppe<br />\\n<h4><b>Typographie </b></h4>\\nStyles de caractère et paragraphe<br />\\nCésure, justification, compositeur<br />\\nTabulations, habillage, pipette<br />\\n<h4><b>Masque </b></h4>\\nMasque d'opacité<br />\\n<h4><b> Scripts</b></h4>\\nCréation de scripts Utilisation d'un script<br />\\nModification d'un script<br />\\n<h4><b>Graphe</b></h4>\\nCréation et modification des graphes<br />\\nChanger les données Importation des données excel<br />\\nRemplacer par des symboles\\nContrôle pour la sortie<br />\\nFormat de document et d'impression. <br />\\nDéfonce, surimpression. <br />\\nSéparation des couleurs<br />\\n<h4><b>La 3d </b></h4>\\nAjouter de la profondeur à un objet avec l'extrusion Faire une rotation du profil d'un objet Gérer les lumières<br />\\nTexturing de l'objet 3d\", resultats_attendus_formation='Cette formation comprend le passage de la certification TOSA.\\n<br /> Une attestation de formation est remise à la fin du stage.', nb_action=1, nb_session_active=10, nb_session_a_distance=0, nombre_heures_total_min=35, nombre_heures_total_max=35, nombre_heures_total_mean=35, frais_ttc_tot_min=2280.0, frais_ttc_tot_max=2280.0, frais_ttc_tot_mean=2280.0, code_departement=None, code_region='nan', nbaction_nbheures=35, coderegion_export='nan')]"
      ]
     },
     "execution_count": 7,
     "metadata": {},
     "output_type": "execute_result"
    }
   ],
   "source": [
    "df_courses_data.head(2)"
   ]
  },
  {
   "cell_type": "code",
   "execution_count": null,
   "metadata": {},
   "outputs": [],
   "source": [
    "# Assuming your DataFrame is named df\n",
    "\n",
    "filter_values = [\n",
    "    \"Informatique, traitement de l'information, réseaux de transmission\",\n",
    "    \"Enseignement, formation\",\n",
    "    \"Commerce, vente\",\n",
    "    \"Comptabilite, gestion\",\n",
    "    \"Spécialités pluri-scientifiques\",\n",
    "    \"Spécialites plurivalentes de la communication et de l'information\"\n",
    "]"
   ]
  },
  {
   "cell_type": "code",
   "execution_count": null,
   "metadata": {},
   "outputs": [],
   "source": [
    "df_courses = df_courses.filter(col(\"libelle_nsf_1\").isin(filter_values))"
   ]
  },
  {
   "cell_type": "code",
   "execution_count": null,
   "metadata": {},
   "outputs": [],
   "source": [
    "df_courses.count()"
   ]
  },
  {
   "cell_type": "code",
   "execution_count": null,
   "metadata": {},
   "outputs": [],
   "source": [
    "# Define the columns to rename and their new names\n",
    "columns_to_rename = {\n",
    "    'nom_of': 'provider',\n",
    "    'siret': 'provider_ID',\n",
    "    'nom_region': 'region',\n",
    "    'nom_departement': 'department',\n",
    "    'intitule_certification': 'certification_title',\n",
    "    'libelle_niveau_sortie_formation': 'training_exit_level',\n",
    "    'libelle_code_formacode_principal': 'main_formacode_desc',\n",
    "    'libelle_nsf_1': 'nsf_code_1_desc',\n",
    "    'libelle_nsf_2': 'nsf_code_2_desc',\n",
    "    'libelle_nsf_3': 'nsf_code_3_desc',\n",
    "    'numero_formation': 'training_ID',\n",
    "    'intitule_formation': 'title',\n",
    "    'points_forts': 'strengths',\n",
    "    'nb_session_active': 'nb_active_session',\n",
    "    'nb_session_a_distance': 'nb_distant_session',\n",
    "    'nombre_heures_total_min': 'duration_min',\n",
    "    'nombre_heures_total_max': 'duration_max',\n",
    "    'nombre_heures_total_mean': 'duration_mean',\n",
    "    'frais_ttc_tot_min': 'cost_min',\n",
    "    'frais_ttc_tot_max': 'cost_max',\n",
    "    'frais_ttc_tot_mean': 'cost_mean'\n",
    "}"
   ]
  },
  {
   "cell_type": "code",
   "execution_count": null,
   "metadata": {},
   "outputs": [],
   "source": [
    "# Rename the columns\n",
    "for old_name, new_name in columns_to_rename.items():\n",
    "    if old_name in df_courses.columns:\n",
    "        df_courses = df_courses.withColumnRenamed(old_name, new_name)\n",
    "    else:\n",
    "        print(f\"Column '{old_name}' not found, skipping rename.\")"
   ]
  },
  {
   "cell_type": "code",
   "execution_count": null,
   "metadata": {},
   "outputs": [],
   "source": [
    "df_courses.columns"
   ]
  },
  {
   "cell_type": "code",
   "execution_count": null,
   "metadata": {},
   "outputs": [],
   "source": [
    "df_courses.coalesce(1).write.parquet('gs://jugnu-france-course-enrollments/courses_data/courses_raw_parquet/france_courses_en.parquet', mode='overwrite')"
   ]
  },
  {
   "cell_type": "markdown",
   "metadata": {},
   "source": [
    "# earlier"
   ]
  },
  {
   "cell_type": "code",
   "execution_count": null,
   "metadata": {},
   "outputs": [],
   "source": [
    "def translate_batch(unique_values):\n",
    "    translations = {}\n",
    "    translator = GoogleTranslator(source='auto', target='en')\n",
    "    for value in unique_values:\n",
    "        if value is not None:\n",
    "            try:\n",
    "                translations[value] = translator.translate(value)\n",
    "            except Exception as e:\n",
    "                print(f\"Translation error: {e}\")\n",
    "                translations[value] = None\n",
    "        else:\n",
    "            translations[value] = None\n",
    "    return translations"
   ]
  },
  {
   "cell_type": "code",
   "execution_count": null,
   "metadata": {},
   "outputs": [],
   "source": [
    "columns_to_translate = ['certification_title'] #, 'title', 'main_formacode_desc']\n",
    "translation_maps = {}"
   ]
  },
  {
   "cell_type": "code",
   "execution_count": null,
   "metadata": {},
   "outputs": [],
   "source": [
    "print(f\"Number of partitions: {df_courses.rdd.getNumPartitions()}\")"
   ]
  },
  {
   "cell_type": "code",
   "execution_count": null,
   "metadata": {},
   "outputs": [],
   "source": [
    "df_courses = df_courses.repartition(24)"
   ]
  },
  {
   "cell_type": "code",
   "execution_count": null,
   "metadata": {},
   "outputs": [],
   "source": [
    "for col_name in columns_to_translate:\n",
    "    unique_values = [row[0] for row in df_courses.select(col_name).distinct().collect()]\n",
    "    translation_maps[col_name] = translate_batch(unique_values)"
   ]
  },
  {
   "cell_type": "code",
   "execution_count": null,
   "metadata": {},
   "outputs": [],
   "source": [
    "for col_name in columns_to_translate:\n",
    "    translation_map = translation_maps[col_name]\n",
    "    broadcasted_map = sc.broadcast(translation_map)\n",
    "\n",
    "    @F.udf(returnType=T.StringType())\n",
    "    def lookup_translation(input_value):\n",
    "        return broadcasted_map.value.get(input_value)\n",
    "\n",
    "    df_courses = df_courses.withColumn(f'{col_name}_en', lookup_translation(F.col(col_name)))"
   ]
  },
  {
   "cell_type": "code",
   "execution_count": null,
   "metadata": {},
   "outputs": [],
   "source": [
    "@F.udf(returnType=T.StringType())\n",
    "def translate(input):\n",
    "    if input is None:\n",
    "        return None  # Or return \"\" if you prefer an empty string\n",
    "    try:\n",
    "        return GoogleTranslator(source='auto', target='en').translate(input)\n",
    "    except NotValidPayload:\n",
    "        return None #Or some other error handling.\n",
    "    except Exception as e:\n",
    "        print(f\"Translation error: {e}\")\n",
    "        return None"
   ]
  },
  {
   "cell_type": "code",
   "execution_count": null,
   "metadata": {},
   "outputs": [],
   "source": [
    "df_courses = df_courses\\\n",
    "            .withColumn('certification_title_en', translate(F.col('certification_title')))\\\n",
    "            .withColumn('title_en', translate(F.col('title')))\\\n",
    "            .withColumn('main_formacode_desc_en', translate(F.col('main_formacode_desc')))"
   ]
  },
  {
   "cell_type": "code",
   "execution_count": null,
   "metadata": {},
   "outputs": [],
   "source": [
    "df_courses.show(5)"
   ]
  },
  {
   "cell_type": "code",
   "execution_count": null,
   "metadata": {},
   "outputs": [],
   "source": [
    "df_courses\\\n",
    "    .write\\\n",
    "    .parquet('gs://jugnu-france-course-enrollments/courses_data/courses_raw_parquet/france_courses_en.parquet', mode='overwrite')"
   ]
  },
  {
   "cell_type": "code",
   "execution_count": null,
   "metadata": {},
   "outputs": [],
   "source": [
    "import pandas as pd\n",
    "import gcsfs\n",
    "import os\n",
    "\n",
    "def read_parquet_from_gcs(gcs_path, credentials_path):\n",
    "    \"\"\"Reads a Parquet file from Google Cloud Storage into a pandas DataFrame.\"\"\"\n",
    "    try:\n",
    "        # Set the environment variable within the function\n",
    "        os.environ[\"GOOGLE_APPLICATION_CREDENTIALS\"] = \"gcs.json\"\n",
    "\n",
    "        fs = gcsfs.GCSFileSystem()\n",
    "        with fs.open(gcs_path) as f:\n",
    "            df = pd.read_parquet(f, )\n",
    "        return df\n",
    "    except Exception as e:\n",
    "        print(f\"Error reading Parquet file: {e}\")\n",
    "        return None\n",
    "\n",
    "# Example usage:\n",
    "gcs_path = \"gs://your-bucket/path/to/your/file.parquet\"  # Replace with your GCS path\n",
    "credentials_path = \"gcs.json\"  # Replace with your path\n",
    "\n",
    "df = read_parquet_from_gcs(gcs_path, credentials_path)\n",
    "\n",
    "if df is not None:\n",
    "    print(df.head())"
   ]
  }
 ],
 "metadata": {
  "kernelspec": {
   "display_name": "de-zoomcamp",
   "language": "python",
   "name": "python3"
  },
  "language_info": {
   "codemirror_mode": {
    "name": "ipython",
    "version": 3
   },
   "file_extension": ".py",
   "mimetype": "text/x-python",
   "name": "python",
   "nbconvert_exporter": "python",
   "pygments_lexer": "ipython3",
   "version": "3.9.16"
  }
 },
 "nbformat": 4,
 "nbformat_minor": 2
}
