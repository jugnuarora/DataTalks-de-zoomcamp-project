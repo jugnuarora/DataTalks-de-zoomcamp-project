{
 "cells": [
  {
   "cell_type": "code",
   "execution_count": 1,
   "metadata": {},
   "outputs": [],
   "source": [
    "import pyspark\n",
    "from pyspark.sql import SparkSession\n",
    "from pyspark.conf import SparkConf\n",
    "from pyspark.context import SparkContext"
   ]
  },
  {
   "cell_type": "code",
   "execution_count": 2,
   "metadata": {},
   "outputs": [],
   "source": [
    "credentials_location = './gcs.json'\n",
    "\n",
    "conf = SparkConf() \\\n",
    "    .setMaster('local[*]') \\\n",
    "    .setAppName('test') \\\n",
    "    .set(\"spark.jars\", \"./lib/gcs-connector-hadoop3-2.2.5.jar\") \\\n",
    "    .set(\"spark.hadoop.google.cloud.auth.service.account.enable\", \"true\") \\\n",
    "    .set(\"spark.hadoop.google.cloud.auth.service.account.json.keyfile\", credentials_location) \\\n",
    "    .set(\"spark.driver.extraClassPath\", \"./lib/gcs-connector-hadoop3-2.2.5.jar\") \\\n",
    "    .set(\"spark.executor.extraClassPath\", \"./lib/gcs-connector-hadoop3-2.2.5.jar\")"
   ]
  },
  {
   "cell_type": "code",
   "execution_count": 3,
   "metadata": {},
   "outputs": [
    {
     "name": "stderr",
     "output_type": "stream",
     "text": [
      "25/03/17 22:23:18 WARN NativeCodeLoader: Unable to load native-hadoop library for your platform... using builtin-java classes where applicable\n",
      "Setting default log level to \"WARN\".\n",
      "To adjust logging level use sc.setLogLevel(newLevel). For SparkR, use setLogLevel(newLevel).\n"
     ]
    }
   ],
   "source": [
    "sc = SparkContext(conf=conf)\n",
    "\n",
    "hadoop_conf = sc._jsc.hadoopConfiguration()\n",
    "\n",
    "hadoop_conf.set(\"fs.AbstractFileSystem.gs.impl\",  \"com.google.cloud.hadoop.fs.gcs.GoogleHadoopFS\")\n",
    "hadoop_conf.set(\"fs.gs.impl\", \"com.google.cloud.hadoop.fs.gcs.GoogleHadoopFileSystem\")\n",
    "hadoop_conf.set(\"fs.gs.auth.service.account.json.keyfile\", credentials_location)\n",
    "hadoop_conf.set(\"fs.gs.auth.service.account.enable\", \"true\")"
   ]
  },
  {
   "cell_type": "code",
   "execution_count": null,
   "metadata": {},
   "outputs": [],
   "source": [
    "spark.stop()"
   ]
  },
  {
   "cell_type": "code",
   "execution_count": 4,
   "metadata": {},
   "outputs": [],
   "source": [
    "spark = SparkSession.builder \\\n",
    "    .config(conf=sc.getConf()) \\\n",
    "    .getOrCreate()"
   ]
  },
  {
   "cell_type": "code",
   "execution_count": 5,
   "metadata": {},
   "outputs": [
    {
     "name": "stderr",
     "output_type": "stream",
     "text": [
      "                                                                                \r"
     ]
    }
   ],
   "source": [
    "df_green = spark.read.parquet('gs://jugnu-france-course-enrollments/courses_data/courses_france/1742226562.037177.01ce315109.parquet')"
   ]
  },
  {
   "cell_type": "code",
   "execution_count": 7,
   "metadata": {},
   "outputs": [
    {
     "name": "stderr",
     "output_type": "stream",
     "text": [
      "                                                                                \r"
     ]
    },
    {
     "name": "stdout",
     "output_type": "stream",
     "text": [
      "+------------+------------------+----------------+--------------------+----------------+---------------+---------+----------------------+-------------------------------+----------------+----------------+----------------+----------------+----------------+--------------------------------+-----------+-----------+-----------+-----------+-----------+--------------------+--------------------+-------------+----------+----------+----------+---------------+--------------+--------------------+--------------------+--------------------+--------------------+--------------------+----------------------------+---------+-----------------+---------------------+-----------------------+-----------------------+------------------------+-----------------+-----------------+------------------+----------------+-----------+-----------------+-----------------+\n",
      "|date_extract|            nom_of| nom_departement|          nom_region|type_referentiel|code_inventaire|code_rncp|intitule_certification|libelle_niveau_sortie_formation|code_formacode_1|code_formacode_2|code_formacode_3|code_formacode_4|code_formacode_5|libelle_code_formacode_principal|code_rome_1|code_rome_2|code_rome_3|code_rome_4|code_rome_5|       libelle_nsf_1|       libelle_nsf_2|libelle_nsf_3|code_nsf_1|code_nsf_2|code_nsf_3|code_certifinfo|         siret|    numero_formation|  intitule_formation|        points_forts|  objectif_formation|   contenu_formation|resultats_attendus_formation|nb_action|nb_session_active|nb_session_a_distance|nombre_heures_total_min|nombre_heures_total_max|nombre_heures_total_mean|frais_ttc_tot_min|frais_ttc_tot_max|frais_ttc_tot_mean|code_departement|code_region|nbaction_nbheures|coderegion_export|\n",
      "+------------+------------------+----------------+--------------------+----------------+---------------+---------+----------------------+-------------------------------+----------------+----------------+----------------+----------------+----------------+--------------------------------+-----------+-----------+-----------+-----------+-----------+--------------------+--------------------+-------------+----------+----------+----------+---------------+--------------+--------------------+--------------------+--------------------+--------------------+--------------------+----------------------------+---------+-----------------+---------------------+-----------------------+-----------------------+------------------------+-----------------+-----------------+------------------+----------------+-----------+-----------------+-----------------+\n",
      "|  2025-03-14|SOMEFORM/ SUP'IPGV|Bouches-du-Rhône|Provence-Alpes-Cô...|            RNCP|             -1|    38625|  Assistant d'admin...|           BAC : BP, BT, bac...|         35028.0|            NULL|            NULL|            NULL|            NULL|            secrétariat assis...|      D1401|      M1605|      M1607|       NULL|       NULL|Secrétariat, bure...|     Commerce, vente|         NULL|     324.0|     312.0|      NULL|         116335|47883804800054|47883804800054_V2...|BLOC 2 TITRE ASCO...|- Bonne pédagogie...|- Assister admini...|Support à la gest...|        Passage et réussi...|        1|                2|                    0|                      0|                      0|                       0|           3150.0|           3150.0|            3150.0|              13|         93|                0|               93|\n",
      "|  2025-03-14|SOMEFORM/ SUP'IPGV|Bouches-du-Rhône|Provence-Alpes-Cô...|            RNCP|             -1|    38625|  Assistant d'admin...|           BAC : BP, BT, bac...|         35028.0|            NULL|            NULL|            NULL|            NULL|            secrétariat assis...|      D1401|      M1605|      M1607|       NULL|       NULL|Secrétariat, bure...|     Commerce, vente|         NULL|     324.0|     312.0|      NULL|         116335|47883804800054|47883804800054_V2...|TITRE ASCOM ASSIS...|- Utilisation de ...|- Assister admini...|BLOC 1 : Support ...|        - Passage de la C...|        1|                2|                    0|                    105|                    105|                     105|           5400.0|           5400.0|            5400.0|              13|         93|              105|               93|\n",
      "|  2025-03-14|SOMEFORM/ SUP'IPGV|Bouches-du-Rhône|Provence-Alpes-Cô...|            RNCP|             -1|    38625|  Assistant d'admin...|           BAC : BP, BT, bac...|         35028.0|            NULL|            NULL|            NULL|            NULL|            secrétariat assis...|      D1401|      M1605|      M1607|       NULL|       NULL|Secrétariat, bure...|     Commerce, vente|         NULL|     324.0|     312.0|      NULL|         116335|47883804800054|47883804800054_V2...|BLOC 1 TITRE ASCO...|- Bonne pédagogie...|- Assister admini...|Support aux activ...|        Passage et réussi...|        1|                2|                    0|                      0|                      0|                       0|           2646.0|           2646.0|            2646.0|              13|         93|                0|               93|\n",
      "|  2025-03-14|SOMEFORM/ SUP'IPGV|             Var|Provence-Alpes-Cô...|            RNCP|             -1|    38506|  Assistant de comp...|           BAC : BP, BT, bac...|         32667.0|         35049.0|            NULL|            NULL|            NULL|            comptabilité géné...|      M1203|      M1602|      M1608|       NULL|       NULL|Secrétariat, bure...|Comptabilite, ges...|         NULL|     324.0|     314.0|      NULL|         116055|47883804800054|47883804800054_V2...|Titre ASCA Assist...|- condensée - trè...|L'assistant de co...|Bureautique Compt...|               Certification|        1|                3|                    0|                    448|                    448|                     448|           5400.0|           5400.0|            5400.0|              83|         93|              448|               93|\n",
      "|  2025-03-14|SOMEFORM/ SUP'IPGV|             Var|Provence-Alpes-Cô...|              RS|           6289|       -1|  Certification bur...|                           NULL|         15052.0|         70322.0|            NULL|            NULL|            NULL|                     bureautique|       NULL|       NULL|       NULL|       NULL|       NULL|Informatique, tra...|Secrétariat, bure...|         NULL|     326.0|     324.0|      NULL|         114794|47883804800054|47883804800054_V2...|Excel niveau 1, 2...|petits groupes de...|La certification ...|Compétences Fonda...|        L'examen de certi...|        2|                0|                    0|                      0|                     28|                      14|           1197.6|           1796.4|            1497.0|              83|         93|               28|               93|\n",
      "+------------+------------------+----------------+--------------------+----------------+---------------+---------+----------------------+-------------------------------+----------------+----------------+----------------+----------------+----------------+--------------------------------+-----------+-----------+-----------+-----------+-----------+--------------------+--------------------+-------------+----------+----------+----------+---------------+--------------+--------------------+--------------------+--------------------+--------------------+--------------------+----------------------------+---------+-----------------+---------------------+-----------------------+-----------------------+------------------------+-----------------+-----------------+------------------+----------------+-----------+-----------------+-----------------+\n",
      "only showing top 5 rows\n",
      "\n"
     ]
    }
   ],
   "source": [
    "df_green.show(5)"
   ]
  }
 ],
 "metadata": {
  "kernelspec": {
   "display_name": "de-zoomcamp",
   "language": "python",
   "name": "python3"
  },
  "language_info": {
   "codemirror_mode": {
    "name": "ipython",
    "version": 3
   },
   "file_extension": ".py",
   "mimetype": "text/x-python",
   "name": "python",
   "nbconvert_exporter": "python",
   "pygments_lexer": "ipython3",
   "version": "3.9.16"
  }
 },
 "nbformat": 4,
 "nbformat_minor": 2
}
